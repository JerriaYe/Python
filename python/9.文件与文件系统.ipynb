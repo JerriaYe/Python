{
 "cells": [
  {
   "cell_type": "markdown",
   "metadata": {},
   "source": [
    "### 文件与文件系统"
   ]
  },
  {
   "cell_type": "markdown",
   "metadata": {},
   "source": [
    "| 打开模式 | 执行操作 |\n",
    "| --- | --- |\n",
    "| 'r' | 以只读方式打开文件。文件的指针将会放在文件的开头。这是默认模式 |\n",
    "| 'w' | 打开一个文件只用于写入。如果该文件已存在则打开文件，并从开头开始编辑。即原有内容会被删除。如果该文件不存在，创建新文件。\n",
    "| 'x' | 写模式，新建一个文件，如果该文件已存在则会报错。 |\n",
    "| 'a' | 追加模式，打开一个文件用于追加。如果该文件已存在，文件指针将会放在文件的结尾。也就是说，新的内容将会被写入到已有内容之后。如果该文件不存在，创建新文件进行写入。\n",
    "| 'b' | 以二进制模式打开文件。一般用于非文本文件，如：图片。|\n",
    "| 't' | 以文本模式打开（默认）。一般用于文本文件，如：txt。|\n",
    "| '+' | 可读写模式（可添加到其它模式中使用）|"
   ]
  },
  {
   "cell_type": "code",
   "execution_count": 2,
   "metadata": {},
   "outputs": [],
   "source": [
    "?open"
   ]
  },
  {
   "cell_type": "code",
   "execution_count": 3,
   "metadata": {},
   "outputs": [
    {
     "name": "stdout",
     "output_type": "stream",
     "text": [
      "<_io.TextIOWrapper name='将进酒.txt' mode='r' encoding='utf-8'>\n",
      "君不见，黄河之水天上来，奔流到海不复回。\n",
      "\n",
      "君不见，高堂明镜悲白发，朝如青丝暮成雪。\n",
      "\n",
      "人生得意须尽欢，莫使金樽空对月。\n",
      "\n",
      "天生我材必有用，千金散尽还复来。\n",
      "\n",
      "烹羊宰牛且为乐，会须一饮三百杯。\n",
      "\n",
      "岑夫子，丹丘生，将进酒，杯莫停。\n",
      "\n",
      "与君歌一曲，请君为我倾耳听。\n",
      "\n",
      "钟鼓馔玉不足贵，但愿长醉不复醒。\n",
      "\n",
      "古来圣贤皆寂寞，惟有饮者留其名。\n",
      "\n",
      "陈王昔时宴平乐，斗酒十千恣欢谑。\n",
      "\n",
      "主人何为言少钱，径须沽取对君酌。\n",
      "\n",
      "五花马，千金裘，呼儿将出换美酒，与尔同销万古愁。\n"
     ]
    }
   ],
   "source": [
    "f = open('将进酒.txt', encoding='utf-8')\n",
    "print(f)\n",
    "\n",
    "\n",
    "for each in f:\n",
    "    print(each)"
   ]
  },
  {
   "cell_type": "code",
   "execution_count": null,
   "metadata": {},
   "outputs": [],
   "source": []
  }
 ],
 "metadata": {
  "kernelspec": {
   "display_name": "Python 3",
   "language": "python",
   "name": "python3"
  },
  "language_info": {
   "codemirror_mode": {
    "name": "ipython",
    "version": 3
   },
   "file_extension": ".py",
   "mimetype": "text/x-python",
   "name": "python",
   "nbconvert_exporter": "python",
   "pygments_lexer": "ipython3",
   "version": "3.7.7"
  }
 },
 "nbformat": 4,
 "nbformat_minor": 4
}
