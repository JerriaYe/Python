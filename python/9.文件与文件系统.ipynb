{
 "cells": [
  {
   "cell_type": "markdown",
   "metadata": {},
   "source": [
    "### 1.文件与文件系统"
   ]
  },
  {
   "cell_type": "markdown",
   "metadata": {},
   "source": [
    "| 打开模式 | 执行操作 |\n",
    "| --- | --- |\n",
    "| 'r' | 以只读方式打开文件。文件的指针将会放在文件的开头。这是默认模式 |\n",
    "| 'w' | 打开一个文件只用于写入。如果该文件已存在则打开文件，并从开头开始编辑。即原有内容会被删除。如果该文件不存在，创建新文件。\n",
    "| 'x' | 写模式，新建一个文件，如果该文件已存在则会报错。 |\n",
    "| 'a' | 追加模式，打开一个文件用于追加。如果该文件已存在，文件指针将会放在文件的结尾。也就是说，新的内容将会被写入到已有内容之后。如果该文件不存在，创建新文件进行写入。\n",
    "| 'b' | 以二进制模式打开文件。一般用于非文本文件，如：图片。|\n",
    "| 't' | 以文本模式打开（默认）。一般用于文本文件，如：txt。|\n",
    "| '+' | 可读写模式（可添加到其它模式中使用）|"
   ]
  },
  {
   "cell_type": "markdown",
   "metadata": {},
   "source": [
    "#### 打开文件"
   ]
  },
  {
   "cell_type": "code",
   "execution_count": 1,
   "metadata": {},
   "outputs": [],
   "source": [
    "?open"
   ]
  },
  {
   "cell_type": "markdown",
   "metadata": {},
   "source": [
    "**UTF-8**（8位元，Universal Character Set/Unicode Transformation Format）是针对Unicode的一种可变长度字符编码。它可以用来表示Unicode标准中的任何字符，而且其编码中的第一个字节仍与ASCII相容，使得原来处理ASCII字符的软件无须或只进行少部份修改后，便可继续使用。因此，它逐渐成为电子邮件、网页及其他存储或传送文字的应用中，优先采用的编码。"
   ]
  },
  {
   "cell_type": "code",
   "execution_count": 2,
   "metadata": {},
   "outputs": [
    {
     "name": "stdout",
     "output_type": "stream",
     "text": [
      "<_io.TextIOWrapper name='将进酒.txt' mode='r' encoding='utf-8'>\n",
      "君不见，黄河之水天上来，奔流到海不复回。\n",
      "\n",
      "君不见，高堂明镜悲白发，朝如青丝暮成雪。\n",
      "\n",
      "人生得意须尽欢，莫使金樽空对月。\n",
      "\n",
      "天生我材必有用，千金散尽还复来。\n",
      "\n",
      "烹羊宰牛且为乐，会须一饮三百杯。\n",
      "\n",
      "岑夫子，丹丘生，将进酒，杯莫停。\n",
      "\n",
      "与君歌一曲，请君为我倾耳听。\n",
      "\n",
      "钟鼓馔玉不足贵，但愿长醉不复醒。\n",
      "\n",
      "古来圣贤皆寂寞，惟有饮者留其名。\n",
      "\n",
      "陈王昔时宴平乐，斗酒十千恣欢谑。\n",
      "\n",
      "主人何为言少钱，径须沽取对君酌。\n",
      "\n",
      "五花马，千金裘，呼儿将出换美酒，与尔同销万古愁。\n"
     ]
    }
   ],
   "source": [
    "\n",
    "f = open('将进酒.txt', encoding='utf-8')\n",
    "print(f)\n",
    "\n",
    "\n",
    "for each in f:\n",
    "    print(each)"
   ]
  },
  {
   "cell_type": "markdown",
   "metadata": {},
   "source": [
    "f = open('项脊轩志.txt',  'a', encoding='utf-8') "
   ]
  },
  {
   "cell_type": "code",
   "execution_count": 4,
   "metadata": {},
   "outputs": [
    {
     "name": "stdout",
     "output_type": "stream",
     "text": [
      "<_io.TextIOWrapper name='项脊轩志.txt' mode='a' encoding='utf-8'>\n"
     ]
    },
    {
     "ename": "UnsupportedOperation",
     "evalue": "not readable",
     "output_type": "error",
     "traceback": [
      "\u001b[1;31m---------------------------------------------------------------------------\u001b[0m",
      "\u001b[1;31mUnsupportedOperation\u001b[0m                      Traceback (most recent call last)",
      "\u001b[1;32m<ipython-input-4-32b57c0e822c>\u001b[0m in \u001b[0;36m<module>\u001b[1;34m\u001b[0m\n\u001b[0;32m      2\u001b[0m \u001b[1;33m\u001b[0m\u001b[0m\n\u001b[0;32m      3\u001b[0m \u001b[1;33m\u001b[0m\u001b[0m\n\u001b[1;32m----> 4\u001b[1;33m \u001b[1;32mfor\u001b[0m \u001b[0meach\u001b[0m \u001b[1;32min\u001b[0m \u001b[0mf\u001b[0m\u001b[1;33m:\u001b[0m\u001b[1;33m\u001b[0m\u001b[1;33m\u001b[0m\u001b[0m\n\u001b[0m\u001b[0;32m      5\u001b[0m     \u001b[0mprint\u001b[0m\u001b[1;33m(\u001b[0m\u001b[0meach\u001b[0m\u001b[1;33m)\u001b[0m\u001b[1;33m\u001b[0m\u001b[1;33m\u001b[0m\u001b[0m\n",
      "\u001b[1;31mUnsupportedOperation\u001b[0m: not readable"
     ]
    }
   ],
   "source": [
    "print(f)\n",
    "\n",
    "\n",
    "for each in f:\n",
    "    print(each)"
   ]
  },
  {
   "cell_type": "markdown",
   "metadata": {},
   "source": [
    "####  文件对象方法"
   ]
  },
  {
   "cell_type": "markdown",
   "metadata": {},
   "source": [
    "- fileObject.close()用于关闭一个已打开的文件。关闭后的文件不能再进行读写操作， 否则会触发ValueError错误"
   ]
  },
  {
   "cell_type": "code",
   "execution_count": 5,
   "metadata": {},
   "outputs": [
    {
     "name": "stdout",
     "output_type": "stream",
     "text": [
      "FileName: 将进酒.txt\n"
     ]
    }
   ],
   "source": [
    "f = open(\"将进酒.txt\")\n",
    "print('FileName:', f.name)  # FileName: 将进酒.txt\n",
    "f.close()"
   ]
  },
  {
   "cell_type": "markdown",
   "metadata": {},
   "source": [
    "- fileObject.read([size]) 用于从文件读取指定的字符数，如果未给定或为负则读取所有。"
   ]
  },
  {
   "cell_type": "code",
   "execution_count": 8,
   "metadata": {},
   "outputs": [
    {
     "name": "stdout",
     "output_type": "stream",
     "text": [
      "读取的字符串: 君不见，黄河之水天上来，奔流到海不复回。\n"
     ]
    }
   ],
   "source": [
    "g = open('将进酒.txt', 'r', encoding='utf-8')\n",
    "line = g.read(20)\n",
    "print(\"读取的字符串: %s\" %line) "
   ]
  },
  {
   "cell_type": "code",
   "execution_count": 9,
   "metadata": {},
   "outputs": [],
   "source": [
    "f.close()"
   ]
  },
  {
   "cell_type": "markdown",
   "metadata": {},
   "source": [
    "- fileObject.readline()读取整行，包括 \"\\n\" 字符"
   ]
  },
  {
   "cell_type": "code",
   "execution_count": 12,
   "metadata": {},
   "outputs": [
    {
     "name": "stdout",
     "output_type": "stream",
     "text": [
      "读取的字符串: 君不见，黄河之水天上来，奔流到海不复回。\n",
      "\n"
     ]
    }
   ],
   "source": [
    "f = open('将进酒.txt', 'r', encoding='utf-8')\n",
    "line = f.readline()\n",
    "print(\"读取的字符串: %s\" % line)\n",
    "\n",
    "f.close()"
   ]
  },
  {
   "cell_type": "markdown",
   "metadata": {},
   "source": [
    "- fileObject.readlines()用于读取所有行(直到结束符 EOF)并返回列表，该列表可以由 Python 的 for... in ... 结构进行处理。"
   ]
  },
  {
   "cell_type": "code",
   "execution_count": 14,
   "metadata": {},
   "outputs": [
    {
     "name": "stdout",
     "output_type": "stream",
     "text": [
      "['君不见，黄河之水天上来，奔流到海不复回。\\n', '君不见，高堂明镜悲白发，朝如青丝暮成雪。\\n', '人生得意须尽欢，莫使金樽空对月。\\n', '天生我材必有用，千金散尽还复来。\\n', '烹羊宰牛且为乐，会须一饮三百杯。\\n', '岑夫子，丹丘生，将进酒，杯莫停。\\n', '与君歌一曲，请君为我倾耳听。\\n', '钟鼓馔玉不足贵，但愿长醉不复醒。\\n', '古来圣贤皆寂寞，惟有饮者留其名。\\n', '陈王昔时宴平乐，斗酒十千恣欢谑。\\n', '主人何为言少钱，径须沽取对君酌。\\n', '五花马，千金裘，呼儿将出换美酒，与尔同销万古愁。']\n",
      "君不见，黄河之水天上来，奔流到海不复回。\n",
      "\n",
      "君不见，高堂明镜悲白发，朝如青丝暮成雪。\n",
      "\n",
      "人生得意须尽欢，莫使金樽空对月。\n",
      "\n",
      "天生我材必有用，千金散尽还复来。\n",
      "\n",
      "烹羊宰牛且为乐，会须一饮三百杯。\n",
      "\n",
      "岑夫子，丹丘生，将进酒，杯莫停。\n",
      "\n",
      "与君歌一曲，请君为我倾耳听。\n",
      "\n",
      "钟鼓馔玉不足贵，但愿长醉不复醒。\n",
      "\n",
      "古来圣贤皆寂寞，惟有饮者留其名。\n",
      "\n",
      "陈王昔时宴平乐，斗酒十千恣欢谑。\n",
      "\n",
      "主人何为言少钱，径须沽取对君酌。\n",
      "\n",
      "五花马，千金裘，呼儿将出换美酒，与尔同销万古愁。\n"
     ]
    }
   ],
   "source": [
    "f = open('将进酒.txt', 'r', encoding='utf-8')\n",
    "lines = f.readlines()\n",
    "print(lines)\n",
    "\n",
    "for each in lines:\n",
    "    each.strip()\n",
    "    print(each)"
   ]
  },
  {
   "cell_type": "markdown",
   "metadata": {},
   "source": [
    "- fileObject.tell()返回文件的当前位置，即文件指针当前位置。"
   ]
  },
  {
   "cell_type": "code",
   "execution_count": 16,
   "metadata": {},
   "outputs": [
    {
     "name": "stdout",
     "output_type": "stream",
     "text": [
      "君不见，黄河之水天上来，奔流到海不复回。\n",
      "60\n"
     ]
    }
   ],
   "source": [
    "f = open('将进酒.txt', 'r', encoding='utf-8')\n",
    "line = f.read(20)\n",
    "print(line)\n",
    "\n",
    "pos = f.tell()\n",
    "print(pos)  \n",
    "f.close()"
   ]
  },
  {
   "cell_type": "code",
   "execution_count": 2,
   "metadata": {},
   "outputs": [
    {
     "name": "stdout",
     "output_type": "stream",
     "text": [
      "君不见，黄河之水天上来，奔流到海不复回。\n",
      "\n"
     ]
    }
   ],
   "source": [
    "f = open('将进酒.txt', 'r', encoding = 'utf-8')\n",
    "line = f.readline()\n",
    "print(line) "
   ]
  },
  {
   "cell_type": "code",
   "execution_count": 3,
   "metadata": {},
   "outputs": [
    {
     "name": "stdout",
     "output_type": "stream",
     "text": [
      "君不见，黄河之水天上来，奔流到海不复回。\n",
      "\n"
     ]
    }
   ],
   "source": [
    "f.seek(0, 0)\n",
    "line = f.readline()\n",
    "print(line)"
   ]
  },
  {
   "cell_type": "markdown",
   "metadata": {},
   "source": [
    "- fileObject.write(str)用于向文件中写入指定字符串，返回的是写入的字符长度"
   ]
  },
  {
   "cell_type": "code",
   "execution_count": 6,
   "metadata": {},
   "outputs": [
    {
     "ename": "SyntaxError",
     "evalue": "bytes can only contain ASCII literal characters. (<ipython-input-6-1abe17cd4c15>, line 2)",
     "output_type": "error",
     "traceback": [
      "\u001b[1;36m  File \u001b[1;32m\"<ipython-input-6-1abe17cd4c15>\"\u001b[1;36m, line \u001b[1;32m2\u001b[0m\n\u001b[1;33m    str = b'\\n作者：李白'\u001b[0m\n\u001b[1;37m         ^\u001b[0m\n\u001b[1;31mSyntaxError\u001b[0m\u001b[1;31m:\u001b[0m bytes can only contain ASCII literal characters.\n"
     ]
    }
   ],
   "source": [
    "f = open('将进酒.txt', 'r+', encoding = 'utf-8')\n",
    "str = '\\n作者：李白'\n",
    "f.seek(0, 2)\n",
    "line = f.write(str)\n",
    "f.seek(0, 0)\n",
    "for each in f:\n",
    "    print(each)\n",
    "\n",
    "f.close()"
   ]
  },
  {
   "cell_type": "markdown",
   "metadata": {},
   "source": [
    "- fileObject.writelines(sequence)向文件写入一个序列字符串列表，如果需要换行则要自己加入每行的换行符\\n.其会改变原有的内容，并不是在后面接着写~"
   ]
  },
  {
   "cell_type": "code",
   "execution_count": 7,
   "metadata": {},
   "outputs": [
    {
     "name": "stdout",
     "output_type": "stream",
     "text": [
      "小马的程序人生\n",
      "\n",
      "老马的程序人生\n"
     ]
    }
   ],
   "source": [
    "f = open('test.txt', 'w+')\n",
    "seq = ['小马的程序人生\\n', '老马的程序人生']\n",
    "f.writelines(seq)\n",
    "f.seek(0, 0)\n",
    "for each in f:\n",
    "    print(each)\n",
    "\n",
    "f.close()"
   ]
  },
  {
   "cell_type": "markdown",
   "metadata": {},
   "source": [
    "**简洁的 with 语句**\n",
    "\n",
    "关键词 with 语句就可以保证诸如文件之类的对象在使用完之后一定会正确的执行它的清理方法。"
   ]
  },
  {
   "cell_type": "code",
   "execution_count": 10,
   "metadata": {},
   "outputs": [],
   "source": [
    "try:\n",
    "    with open('将进酒.txt', 'r', encoding = 'utf-8') as f:\n",
    "        for line in f:\n",
    "            print(line)\n",
    "except OSError as error:\n",
    "    print('出错啦!%s' % str(error)) "
   ]
  },
  {
   "cell_type": "markdown",
   "metadata": {},
   "source": [
    "### 2.OS 模块中关于文件/目录常用的函数"
   ]
  },
  {
   "cell_type": "markdown",
   "metadata": {},
   "source": [
    "有了OS（Operation System）模块，我们不需要关心什么操作系统下使用什么模块，OS模块会帮你选择正确的模块并调用。\n",
    "\n",
    "- os.getcwd()用于返回当前工作目录。(cwd 指Current working directory)\n",
    "- os.chdir(path)用于改变当前工作目录到指定的路径。"
   ]
  },
  {
   "cell_type": "code",
   "execution_count": 11,
   "metadata": {},
   "outputs": [
    {
     "name": "stdout",
     "output_type": "stream",
     "text": [
      "当前工作目录 : F:\\competetion\\NLP\\python\n",
      "目录修改成功 : C:\\\n"
     ]
    }
   ],
   "source": [
    "import os\n",
    "\n",
    "path = 'C:\\\\'\n",
    "print(\"当前工作目录 : %s\" % os.getcwd())F:\\competetion\\NLP\\python\n",
    "\n",
    "os.chdir(path)\n",
    "print(\"目录修改成功 : %s\" % os.getcwd())"
   ]
  },
  {
   "cell_type": "markdown",
   "metadata": {},
   "source": [
    "- listdir (path='.')返回path指定的文件夹包含的文件或文件夹的名字的列表。"
   ]
  },
  {
   "cell_type": "code",
   "execution_count": 12,
   "metadata": {},
   "outputs": [
    {
     "name": "stdout",
     "output_type": "stream",
     "text": [
      "$GetCurrent\n",
      "$Recycle.Bin\n",
      "AppData\n",
      "Boot\n",
      "bootmgr\n",
      "BOOTNXT\n",
      "BOOTSECT.BAK\n",
      "Documents and Settings\n",
      "EFI\n",
      "hiberfil.sys\n",
      "kingsoft\n",
      "OneDriveTemp\n",
      "PerfLogs\n",
      "Program Files\n",
      "Program Files (x86)\n",
      "ProgramData\n",
      "QMDownload\n",
      "Recovery\n",
      "swapfile.sys\n",
      "System Volume Information\n",
      "Users\n",
      "Windows\n",
      "Windows10Upgrade\n",
      "用户奖励计划\n"
     ]
    }
   ],
   "source": [
    "import os\n",
    "dirs = os.listdir()\n",
    "for item in dirs:\n",
    "    print(item)"
   ]
  },
  {
   "cell_type": "code",
   "execution_count": 13,
   "metadata": {},
   "outputs": [
    {
     "name": "stdout",
     "output_type": "stream",
     "text": [
      "C\n",
      ":\n",
      "\\\n"
     ]
    }
   ],
   "source": [
    "import os\n",
    "dirs = os.getcwd()\n",
    "for item in dirs:\n",
    "    print(item)"
   ]
  },
  {
   "cell_type": "markdown",
   "metadata": {},
   "source": [
    "- os.mkdir(path)创建单层目录，如果该目录已存在抛出异常。"
   ]
  },
  {
   "cell_type": "code",
   "execution_count": 14,
   "metadata": {},
   "outputs": [
    {
     "ename": "FileNotFoundError",
     "evalue": "[WinError 3] 系统找不到指定的路径。: '.\\\\C\\\\A'",
     "output_type": "error",
     "traceback": [
      "\u001b[1;31m---------------------------------------------------------------------------\u001b[0m",
      "\u001b[1;31mFileNotFoundError\u001b[0m                         Traceback (most recent call last)",
      "\u001b[1;32m<ipython-input-14-692ed85d85cb>\u001b[0m in \u001b[0;36m<module>\u001b[1;34m\u001b[0m\n\u001b[0;32m      5\u001b[0m     \u001b[0mos\u001b[0m\u001b[1;33m.\u001b[0m\u001b[0mmkdir\u001b[0m\u001b[1;33m(\u001b[0m\u001b[1;34mr'.\\B\\A'\u001b[0m\u001b[1;33m)\u001b[0m\u001b[1;33m\u001b[0m\u001b[1;33m\u001b[0m\u001b[0m\n\u001b[0;32m      6\u001b[0m \u001b[1;33m\u001b[0m\u001b[0m\n\u001b[1;32m----> 7\u001b[1;33m \u001b[0mos\u001b[0m\u001b[1;33m.\u001b[0m\u001b[0mmkdir\u001b[0m\u001b[1;33m(\u001b[0m\u001b[1;34mr'.\\C\\A'\u001b[0m\u001b[1;33m)\u001b[0m\u001b[1;33m\u001b[0m\u001b[1;33m\u001b[0m\u001b[0m\n\u001b[0m",
      "\u001b[1;31mFileNotFoundError\u001b[0m: [WinError 3] 系统找不到指定的路径。: '.\\\\C\\\\A'"
     ]
    }
   ],
   "source": [
    "import os\n",
    "\n",
    "if os.path.isdir(r'.\\C') is False:\n",
    "    os.mkdir(r'.\\B')\n",
    "    os.mkdir(r'.\\B\\A')\n",
    "\n",
    "os.mkdir(r'.\\C\\A')"
   ]
  },
  {
   "cell_type": "markdown",
   "metadata": {},
   "source": [
    "- os.makedirs(path)用于递归创建多层目录，如果该目录已存在抛出异常。"
   ]
  },
  {
   "cell_type": "code",
   "execution_count": 15,
   "metadata": {},
   "outputs": [
    {
     "ename": "FileExistsError",
     "evalue": "[WinError 183] 当文件已存在时，无法创建该文件。: '.\\\\B\\\\A'",
     "output_type": "error",
     "traceback": [
      "\u001b[1;31m---------------------------------------------------------------------------\u001b[0m",
      "\u001b[1;31mFileExistsError\u001b[0m                           Traceback (most recent call last)",
      "\u001b[1;32m<ipython-input-15-01d4eb73b0ff>\u001b[0m in \u001b[0;36m<module>\u001b[1;34m\u001b[0m\n\u001b[0;32m      1\u001b[0m \u001b[1;32mimport\u001b[0m \u001b[0mos\u001b[0m\u001b[1;33m\u001b[0m\u001b[1;33m\u001b[0m\u001b[0m\n\u001b[1;32m----> 2\u001b[1;33m \u001b[0mos\u001b[0m\u001b[1;33m.\u001b[0m\u001b[0mmakedirs\u001b[0m\u001b[1;33m(\u001b[0m\u001b[1;34mr'.\\B\\A'\u001b[0m\u001b[1;33m)\u001b[0m\u001b[1;33m\u001b[0m\u001b[1;33m\u001b[0m\u001b[0m\n\u001b[0m",
      "\u001b[1;32mE:\\ProgramFiles\\Anaconda\\lib\\os.py\u001b[0m in \u001b[0;36mmakedirs\u001b[1;34m(name, mode, exist_ok)\u001b[0m\n\u001b[0;32m    221\u001b[0m             \u001b[1;32mreturn\u001b[0m\u001b[1;33m\u001b[0m\u001b[1;33m\u001b[0m\u001b[0m\n\u001b[0;32m    222\u001b[0m     \u001b[1;32mtry\u001b[0m\u001b[1;33m:\u001b[0m\u001b[1;33m\u001b[0m\u001b[1;33m\u001b[0m\u001b[0m\n\u001b[1;32m--> 223\u001b[1;33m         \u001b[0mmkdir\u001b[0m\u001b[1;33m(\u001b[0m\u001b[0mname\u001b[0m\u001b[1;33m,\u001b[0m \u001b[0mmode\u001b[0m\u001b[1;33m)\u001b[0m\u001b[1;33m\u001b[0m\u001b[1;33m\u001b[0m\u001b[0m\n\u001b[0m\u001b[0;32m    224\u001b[0m     \u001b[1;32mexcept\u001b[0m \u001b[0mOSError\u001b[0m\u001b[1;33m:\u001b[0m\u001b[1;33m\u001b[0m\u001b[1;33m\u001b[0m\u001b[0m\n\u001b[0;32m    225\u001b[0m         \u001b[1;31m# Cannot rely on checking for EEXIST, since the operating system\u001b[0m\u001b[1;33m\u001b[0m\u001b[1;33m\u001b[0m\u001b[1;33m\u001b[0m\u001b[0m\n",
      "\u001b[1;31mFileExistsError\u001b[0m: [WinError 183] 当文件已存在时，无法创建该文件。: '.\\\\B\\\\A'"
     ]
    }
   ],
   "source": [
    "import os\n",
    "os.makedirs(r'.\\B\\A')"
   ]
  },
  {
   "cell_type": "markdown",
   "metadata": {},
   "source": [
    "- os.remove(path)用于删除指定路径的文件。如果指定的路径是一个目录，将抛出 OSError。"
   ]
  },
  {
   "cell_type": "code",
   "execution_count": 16,
   "metadata": {},
   "outputs": [
    {
     "name": "stdout",
     "output_type": "stream",
     "text": [
      "目录为: ['test.txt']\n",
      "目录为: []\n"
     ]
    }
   ],
   "source": [
    "import os\n",
    "\n",
    "print(\"目录为: %s\" % os.listdir(r'.\\B\\A'))\n",
    "os.remove(r'.\\B\\A\\test.txt')\n",
    "print(\"目录为: %s\" % os.listdir(r'.\\B\\A'))"
   ]
  },
  {
   "cell_type": "markdown",
   "metadata": {},
   "source": [
    "- os.rmdir(path)用于删除单层目录。仅当这文件夹是空的才可以, 否则, 抛出 OSError。"
   ]
  },
  {
   "cell_type": "code",
   "execution_count": 18,
   "metadata": {},
   "outputs": [
    {
     "name": "stdout",
     "output_type": "stream",
     "text": [
      "目录为: ['A']\n",
      "目录为: ['A']\n"
     ]
    }
   ],
   "source": [
    "import os\n",
    "\n",
    "print(\"目录为: %s\" % os.listdir(r'.\\B'))\n",
    "os.rmdir(r'.\\B\\A')\n",
    "print(\"目录为: %s\" % os.listdir(r'.\\B'))"
   ]
  },
  {
   "cell_type": "markdown",
   "metadata": {},
   "source": [
    "- os.removedirs(path)递归删除目录，从子目录到父目录逐层尝试删除，遇到目录非空则抛出异常。\n",
    "\n",
    "对比函数os.makedirs(path)【os.makedirs(path)用于递归创建多层目录，如果该目录已存在抛出异常。】可以发现，**如果是进行多层目录的创建或者删除操作，操作名称都是全程，dir后面需要加s**"
   ]
  },
  {
   "cell_type": "markdown",
   "metadata": {},
   "source": [
    "- os.rename(src, dst)方法用于命名文件或目录，从 src 到 dst，如果 dst 是一个存在的目录, 将抛出 OSError"
   ]
  },
  {
   "cell_type": "code",
   "execution_count": 23,
   "metadata": {},
   "outputs": [
    {
     "name": "stdout",
     "output_type": "stream",
     "text": [
      "目录修改成功 : F:\\competetion\\NLP\\python\n"
     ]
    }
   ],
   "source": [
    "import os\n",
    "\n",
    "path = 'F:\\\\competetion\\\\NLP\\\\python'\n",
    "# print(\"当前工作目录 : %s\" % os.getcwd())\n",
    "\n",
    "os.chdir(path)\n",
    "print(\"目录修改成功 : %s\" % os.getcwd())"
   ]
  },
  {
   "cell_type": "code",
   "execution_count": 24,
   "metadata": {},
   "outputs": [
    {
     "name": "stdout",
     "output_type": "stream",
     "text": [
      "目录为: ['.ipynb_checkpoints', '1.1变量、运算符与数据类型.ipynb', '1.2.位运算.ipynb', '2.条件与循环.ipynb', '3.异常处理.ipynb', '4.列表、元组与字符串.ipynb', '5.字典，集合与序列.ipynb', '6.函数与lambda表达式.ipynb', '7.类，对象与魔法方法.ipynb', '8.模块与datetime模块.ipynb', '9.文件与文件系统.ipynb', 'test.txt', '将进酒.txt', '项脊轩志.txt']\n",
      "重命名成功。\n",
      "目录为: ['.ipynb_checkpoints', '1.1变量、运算符与数据类型.ipynb', '1.2.位运算.ipynb', '2.条件与循环.ipynb', '3.异常处理.ipynb', '4.列表、元组与字符串.ipynb', '5.字典，集合与序列.ipynb', '6.函数与lambda表达式.ipynb', '7.类，对象与魔法方法.ipynb', '8.模块与datetime模块.ipynb', '9.文件与文件系统.ipynb', 'test2.txt', '将进酒.txt', '项脊轩志.txt']\n"
     ]
    }
   ],
   "source": [
    "import os\n",
    "\n",
    "print(\"目录为: %s\" % os.listdir(os.getcwd()))\n",
    "os.rename(\"test.txt\", \"test2.txt\")\n",
    "print(\"重命名成功。\")\n",
    "print(\"目录为: %s\" % os.listdir(os.getcwd()))"
   ]
  },
  {
   "cell_type": "markdown",
   "metadata": {},
   "source": [
    "- os.system(command)运行系统的shell命令（将字符串转化成命令）"
   ]
  },
  {
   "cell_type": "code",
   "execution_count": 26,
   "metadata": {},
   "outputs": [
    {
     "data": {
      "text/plain": [
       "0"
      ]
     },
     "execution_count": 26,
     "metadata": {},
     "output_type": "execute_result"
    }
   ],
   "source": [
    "import os\n",
    "\n",
    "path = os.getcwd() + '\\\\a.py'\n",
    "a = os.system(r'python %s' % path)\n",
    "\n",
    "os.system('calc') "
   ]
  },
  {
   "cell_type": "markdown",
   "metadata": {},
   "source": [
    "- os.curdir指代当前目录（.）\n",
    "- os.pardir指代上一级目录（..）\n",
    "- os.sep输出操作系统特定的路径分隔符（win下为\\\\，Linux下为/）\n",
    "- os.linesep当前平台使用的行终止符（win下为\\r\\n，Linux下为\\n）\n",
    "- os.name指代当前使用的操作系统（包括：'mac'，'nt'）"
   ]
  },
  {
   "cell_type": "code",
   "execution_count": 27,
   "metadata": {},
   "outputs": [
    {
     "name": "stdout",
     "output_type": "stream",
     "text": [
      "nt\n"
     ]
    }
   ],
   "source": [
    "print(os.name)"
   ]
  },
  {
   "cell_type": "code",
   "execution_count": 28,
   "metadata": {},
   "outputs": [
    {
     "name": "stdout",
     "output_type": "stream",
     "text": [
      ".\n",
      "..\n",
      "\\\n",
      "\r\n",
      "\n",
      "nt\n"
     ]
    }
   ],
   "source": [
    "import os\n",
    "\n",
    "print(os.curdir)  \n",
    "print(os.pardir)  \n",
    "print(os.sep)  \n",
    "print(os.linesep)\n",
    "print(os.name) "
   ]
  },
  {
   "cell_type": "markdown",
   "metadata": {},
   "source": [
    "- os.path.basename(path)去掉目录路径，单独返回文件名\n",
    "- os.path.dirname(path)去掉文件名，单独返回目录路径\n",
    "- os.path.join(path1[, path2[, ...]])将 path1，path2 各部分组合成一个路径名\n",
    "- os.path.split(path)分割文件名与路径，返回(f_path,f_name)元组。如果完全使用目录，它会将最后一个目录作为文件名分离，且不会判断文件或者目录是否存在。\n",
    "- os.path.splitext(path)分离文件名与扩展名，返回(f_path,f_name)元组。"
   ]
  },
  {
   "cell_type": "code",
   "execution_count": 29,
   "metadata": {},
   "outputs": [
    {
     "name": "stdout",
     "output_type": "stream",
     "text": [
      "lsgo.txt\n",
      "C:\\test\n",
      "C:\\test\\lsgo.txt\n",
      "('C:\\\\test', 'lsgo.txt')\n",
      "('C:\\\\test\\\\lsgo', '.txt')\n"
     ]
    }
   ],
   "source": [
    "import os\n",
    "\n",
    "# 返回文件名\n",
    "print(os.path.basename(r'C:\\test\\lsgo.txt'))  \n",
    "# 返回目录路径\n",
    "print(os.path.dirname(r'C:\\test\\lsgo.txt'))  \n",
    "# 将目录和文件名合成一个路径\n",
    "print(os.path.join('C:\\\\', 'test', 'lsgo.txt'))  \n",
    "# 分割文件名与路径\n",
    "print(os.path.split(r'C:\\test\\lsgo.txt'))  \n",
    "# 分离文件名与扩展名\n",
    "print(os.path.splitext(r'C:\\test\\lsgo.txt'))  "
   ]
  },
  {
   "cell_type": "markdown",
   "metadata": {},
   "source": [
    "- os.path.getsize(file)返回指定文件大小，单位是字节。\n",
    "- os.path.getatime(file)返回指定文件最近的访问时间\n",
    "- os.path.getctime(file)返回指定文件的创建时间\n",
    "- os.path.getmtime(file)返回指定文件的最新的修改时间\n",
    "- 浮点型秒数，可用time模块的gmtime()或localtime()函数换算"
   ]
  },
  {
   "cell_type": "code",
   "execution_count": 38,
   "metadata": {},
   "outputs": [
    {
     "name": "stdout",
     "output_type": "stream",
     "text": [
      "30\n",
      "1597412509.432376\n",
      "1595644255.9976184\n",
      "1597411064.826974\n",
      "创建时间： time.struct_time(tm_year=2020, tm_mon=7, tm_mday=25, tm_hour=2, tm_min=30, tm_sec=55, tm_wday=5, tm_yday=207, tm_isdst=0)\n",
      "最新修改时间： time.struct_time(tm_year=2020, tm_mon=8, tm_mday=14, tm_hour=21, tm_min=17, tm_sec=44, tm_wday=4, tm_yday=227, tm_isdst=0)\n"
     ]
    }
   ],
   "source": [
    "import os\n",
    "import time\n",
    "\n",
    "file = r'test2.txt'\n",
    "print(os.path.getsize(file))  \n",
    "print(os.path.getatime(file))  \n",
    "print(os.path.getctime(file))  \n",
    "print(os.path.getmtime(file))  \n",
    "print('创建时间：', time.gmtime(os.path.getctime(file)))\n",
    "# time.struct_time(tm_year=2019, tm_mon=8, tm_mday=12, tm_hour=7, tm_min=8, tm_sec=57, tm_wday=0, tm_yday=224, tm_isdst=0)\n",
    "print('最新修改时间：', time.localtime(os.path.getmtime(file)))"
   ]
  },
  {
   "cell_type": "markdown",
   "metadata": {},
   "source": [
    "- os.path.exists(path)判断指定路径（目录或文件）是否存在\n",
    "- os.path.isabs(path)判断指定路径是否为绝对路径\n",
    "- os.path.isdir(path)判断指定路径是否存在且是一个目录\n",
    "- os.path.isfile(path)判断指定路径是否存在且是一个文件\n",
    "- os.path.islink(path)判断指定路径是否存在且是一个符号链接\n",
    "- os.path.ismount(path)判断指定路径是否存在且是一个悬挂点\n",
    "- os.path.samefile(path1,path2)判断path1和path2两个路径是否指向同一个文件"
   ]
  },
  {
   "cell_type": "code",
   "execution_count": 39,
   "metadata": {},
   "outputs": [
    {
     "name": "stdout",
     "output_type": "stream",
     "text": [
      "True\n",
      "False\n"
     ]
    }
   ],
   "source": [
    "import os\n",
    "\n",
    "print(os.path.ismount('D:\\\\'))  \n",
    "print(os.path.ismount('D:\\\\Test'))  \n"
   ]
  },
  {
   "cell_type": "markdown",
   "metadata": {},
   "source": [
    "### 3，序列化与反序列化"
   ]
  },
  {
   "cell_type": "markdown",
   "metadata": {},
   "source": [
    "Python 的 pickle 模块实现了基本的数据序列和反序列化。\n",
    "\n",
    "- 通过 pickle 模块的序列化操作我们能够将程序中运行的对象信息保存到文件中去，永久存储。\n",
    "- 通过 pickle 模块的反序列化操作，我们能够从文件中创建上一次程序保存的对象"
   ]
  },
  {
   "cell_type": "markdown",
   "metadata": {},
   "source": [
    "- pickle.dump(obj, file, [,protocol]) 将obj对象序列化存入已经打开的file中。\n",
    "\n",
    "  - obj：想要序列化的obj对象。\n",
    "  - file:文件名称。\n",
    "  - protocol：序列化使用的协议。如果该项省略，则默认为0。如果为负值或HIGHEST_PROTOCOL，则使用最高的协议版本。\n",
    "\n",
    "- pickle.load(file) 将file中的对象序列化读出。\n",
    "\n",
    "   - file：文件名称。"
   ]
  },
  {
   "cell_type": "code",
   "execution_count": 40,
   "metadata": {},
   "outputs": [],
   "source": [
    "import pickle\n",
    "\n",
    "dataList = [[1, 1, 'yes'],\n",
    "            [1, 1, 'yes'],\n",
    "            [1, 0, 'no'],\n",
    "            [0, 1, 'no'],\n",
    "            [0, 1, 'no']]\n",
    "dataDic = {0: [1, 2, 3, 4],\n",
    "           1: ('a', 'b'),\n",
    "           2: {'c': 'yes', 'd': 'no'}}\n",
    "\n",
    "# 使用dump()将数据序列化到文件中\n",
    "fw = open(r'.\\dataFile.pkl', 'wb')"
   ]
  },
  {
   "cell_type": "code",
   "execution_count": 41,
   "metadata": {},
   "outputs": [],
   "source": [
    "# Pickle the list using the highest protocol available.\n",
    "pickle.dump(dataList, fw, -1)\n",
    "\n",
    "# Pickle dictionary using protocol 0.\n",
    "pickle.dump(dataDic, fw)\n",
    "fw.close()"
   ]
  },
  {
   "cell_type": "code",
   "execution_count": 42,
   "metadata": {},
   "outputs": [
    {
     "name": "stdout",
     "output_type": "stream",
     "text": [
      "[[1, 1, 'yes'], [1, 1, 'yes'], [1, 0, 'no'], [0, 1, 'no'], [0, 1, 'no']]\n",
      "{0: [1, 2, 3, 4], 1: ('a', 'b'), 2: {'c': 'yes', 'd': 'no'}}\n"
     ]
    }
   ],
   "source": [
    "# 使用load()将数据从文件中序列化读出\n",
    "fr = open('dataFile.pkl', 'rb')\n",
    "data1 = pickle.load(fr)\n",
    "print(data1)\n",
    "data2 = pickle.load(fr)\n",
    "print(data2)\n",
    "fr.close()"
   ]
  },
  {
   "cell_type": "code",
   "execution_count": null,
   "metadata": {},
   "outputs": [],
   "source": []
  }
 ],
 "metadata": {
  "kernelspec": {
   "display_name": "Python 3",
   "language": "python",
   "name": "python3"
  },
  "language_info": {
   "codemirror_mode": {
    "name": "ipython",
    "version": 3
   },
   "file_extension": ".py",
   "mimetype": "text/x-python",
   "name": "python",
   "nbconvert_exporter": "python",
   "pygments_lexer": "ipython3",
   "version": "3.7.7"
  }
 },
 "nbformat": 4,
 "nbformat_minor": 4
}
