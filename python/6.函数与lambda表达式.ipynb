{
 "cells": [
  {
   "cell_type": "markdown",
   "metadata": {},
   "source": [
    "#### 函数的定义\n",
    "函数以def关键词开头，后接函数名和圆括号()。\n",
    "函数执行的代码以冒号起始，并且缩进。\n",
    "return [表达式] 结束函数，选择性地返回一个值给调用方。不带表达式的return相当于返回None。\n"
   ]
  },
  {
   "cell_type": "code",
   "execution_count": 1,
   "metadata": {},
   "outputs": [
    {
     "ename": "SyntaxError",
     "evalue": "unexpected EOF while parsing (<ipython-input-1-db024119cfad>, line 4)",
     "output_type": "error",
     "traceback": [
      "\u001b[1;36m  File \u001b[1;32m\"<ipython-input-1-db024119cfad>\"\u001b[1;36m, line \u001b[1;32m4\u001b[0m\n\u001b[1;33m    return [expression\u001b[0m\n\u001b[1;37m                      ^\u001b[0m\n\u001b[1;31mSyntaxError\u001b[0m\u001b[1;31m:\u001b[0m unexpected EOF while parsing\n"
     ]
    }
   ],
   "source": [
    "def functionname(parameters):\n",
    "    \"函数_文档字符串\"\n",
    "    function_suite\n",
    "    return [expression"
   ]
  },
  {
   "cell_type": "code",
   "execution_count": null,
   "metadata": {},
   "outputs": [],
   "source": [
    "def MyFirstFunction(name):\n",
    "    \"函数定义过程中name是形参\"\n",
    "    # 因为Ta只是一个形式，表示占据一个参数位置\n",
    "    print('传递进来的{0}叫做实参，因为Ta是具体的参数值！'.format(name))\n",
    "\n",
    "\n",
    "MyFirstFunction('老马的程序人生')  \n",
    "\n",
    "\n",
    "print('MyFirstFunction doc is:',MyFirstFunction.__doc__)  \n",
    "\n",
    "\n",
    "help(MyFirstFunction)"
   ]
  },
  {
   "cell_type": "markdown",
   "metadata": {},
   "source": [
    "#### 函数参数\n",
    "*位置参数 (positional argument)*\n",
    "\n",
    "*默认参数 (default argument)*\n",
    "\n",
    "*可变参数 (variable argument)*\n",
    "\n",
    "*关键字参数 (keyword argument)*\n",
    "\n",
    "*命名关键字参数 (name keyword argument)*\n",
    "\n",
    "*参数组合*\n",
    "\n",
    "- 1. 位置参数\n",
    "\n",
    "arg1 - 位置参数 ，这些参数在调用函数 (call function) 时位置要固定\n"
   ]
  },
  {
   "cell_type": "markdown",
   "metadata": {},
   "source": [
    "- 2. 默认参数\n",
    "\n",
    "默认参数一定要放在位置参数 后面，不然程序会报错\n",
    "\n",
    "Python 允许函数调用时参数的顺序与声明时不一致，因为 Python 解释器能够用参数名匹配参数值。"
   ]
  },
  {
   "cell_type": "code",
   "execution_count": 2,
   "metadata": {},
   "outputs": [
    {
     "name": "stdout",
     "output_type": "stream",
     "text": [
      "Name:小马,Age:8\n"
     ]
    }
   ],
   "source": [
    "def printinfo(name, age):\n",
    "    print('Name:{0},Age:{1}'.format(name, age))\n",
    "\n",
    "\n",
    "printinfo(age=8, name='小马')  "
   ]
  },
  {
   "cell_type": "markdown",
   "metadata": {},
   "source": [
    "- 3. 可变参数\n",
    "\n",
    "顾名思义，可变参数就是传入的参数个数是可变的，可以是 0, 1, 2 到任意个，是不定长的参数。\n",
    "\n",
    "***args - 可变参数，可以是从零个到任意个，自动组装成元组。\n",
    "加了星号（*）的变量名会存放所有未命名的变量参数。**"
   ]
  },
  {
   "cell_type": "code",
   "execution_count": 3,
   "metadata": {},
   "outputs": [
    {
     "ename": "NameError",
     "evalue": "name 'v' is not defined",
     "output_type": "error",
     "traceback": [
      "\u001b[1;31m---------------------------------------------------------------------------\u001b[0m",
      "\u001b[1;31mNameError\u001b[0m                                 Traceback (most recent call last)",
      "\u001b[1;32m<ipython-input-3-eeb9295590c2>\u001b[0m in \u001b[0;36m<module>\u001b[1;34m\u001b[0m\n\u001b[1;32m----> 1\u001b[1;33m \u001b[1;32mdef\u001b[0m \u001b[0mfunctionname\u001b[0m\u001b[1;33m(\u001b[0m\u001b[0marg1\u001b[0m\u001b[1;33m,\u001b[0m \u001b[0marg2\u001b[0m\u001b[1;33m=\u001b[0m\u001b[0mv\u001b[0m\u001b[1;33m,\u001b[0m \u001b[1;33m*\u001b[0m\u001b[0margs\u001b[0m\u001b[1;33m)\u001b[0m\u001b[1;33m:\u001b[0m\u001b[1;33m\u001b[0m\u001b[1;33m\u001b[0m\u001b[0m\n\u001b[0m\u001b[0;32m      2\u001b[0m     \u001b[1;34m\"函数_文档字符串\"\u001b[0m\u001b[1;33m\u001b[0m\u001b[1;33m\u001b[0m\u001b[0m\n\u001b[0;32m      3\u001b[0m     \u001b[0mfunction_suite\u001b[0m\u001b[1;33m\u001b[0m\u001b[1;33m\u001b[0m\u001b[0m\n\u001b[0;32m      4\u001b[0m     \u001b[1;32mreturn\u001b[0m \u001b[1;33m[\u001b[0m\u001b[0mexpression\u001b[0m\u001b[1;33m]\u001b[0m\u001b[1;33m\u001b[0m\u001b[1;33m\u001b[0m\u001b[0m\n",
      "\u001b[1;31mNameError\u001b[0m: name 'v' is not defined"
     ]
    }
   ],
   "source": [
    "def functionname(arg1, arg2=v, *args):\n",
    "    \"函数_文档字符串\"\n",
    "    function_suite\n",
    "    return [expression]"
   ]
  },
  {
   "cell_type": "code",
   "execution_count": null,
   "metadata": {},
   "outputs": [],
   "source": [
    "def printinfo(arg1, *args):\n",
    "    print(arg1)\n",
    "    for var in args:\n",
    "        print(var)\n",
    "\n",
    "\n",
    "printinfo(10)  \n",
    "printinfo(70, 60, 50)"
   ]
  },
  {
   "cell_type": "markdown",
   "metadata": {},
   "source": [
    "#### 4. 关键字参数\n",
    "\n",
    "**kw - 关键字参数，可以是从零个到任意个，自动组装成字典"
   ]
  },
  {
   "cell_type": "code",
   "execution_count": null,
   "metadata": {},
   "outputs": [],
   "source": [
    "def functionname(arg1, arg2=v, *args, **kw):\n",
    "    \"函数_文档字符串\"\n",
    "    function_suite\n",
    "    return [expression]"
   ]
  },
  {
   "cell_type": "code",
   "execution_count": null,
   "metadata": {},
   "outputs": [],
   "source": [
    "def printinfo(arg1, *args, **kwargs):\n",
    "    print(arg1)\n",
    "    print(args)\n",
    "    print(kwargs)\n",
    "\n",
    "\n",
    "printinfo(70, 60, 50)\n",
    "\n",
    "printinfo(70, 60, 50, a=1, b=2)"
   ]
  },
  {
   "cell_type": "markdown",
   "metadata": {},
   "source": [
    "**「可变参数」和「关键字参数」的同异总结如下：**\n",
    "\n",
    "- 可变参数允许传入零个到任意个参数，它们在函数调用时自动组装为一个**元组 (tuple)。**\n",
    "- 关键字参数允许传入零个到任意个参数，它们在函数内部自动组装为一个**字典 (dict)。**"
   ]
  },
  {
   "cell_type": "markdown",
   "metadata": {},
   "source": [
    "**5. 命名关键字参数**\n",
    "\n",
    "- *, nkw - 命名关键字参数，用户想要输入的关键字参数，定义方式是在nkw 前面加个分隔符 *。\n",
    "- 如果要限制关键字参数的名字，就可以用「命名关键字参数」\n",
    "- 使用命名关键字参数时，要特别注意不能缺少参数名。"
   ]
  },
  {
   "cell_type": "code",
   "execution_count": null,
   "metadata": {},
   "outputs": [],
   "source": [
    "def functionname(arg1, arg2=v, *args, *, nkw, **kw):\n",
    "    \"函数_文档字符串\"\n",
    "    function_suite\n",
    "    return [expression]"
   ]
  },
  {
   "cell_type": "code",
   "execution_count": null,
   "metadata": {},
   "outputs": [],
   "source": [
    "def printinfo(arg1, *, nkw, **kwargs):\n",
    "    print(arg1)\n",
    "    print(nkw)\n",
    "    print(kwargs)\n",
    "\n",
    "\n",
    "printinfo(70, nkw=10, a=1, b=2)\n",
    "\n",
    "#没有写参数名nwk，因此 10 被当成「位置参数」，\n",
    "#而原函数只有 1 个位置函数，现在调用了 2 个，因此程序会报错\n",
    "printinfo(70, 10, a=1, b=2)"
   ]
  },
  {
   "cell_type": "markdown",
   "metadata": {},
   "source": [
    "在 Python 中定义函数，可以用位置参数、默认参数、可变参数、命名关键字参数和关键字参数，这 5 种参数中的 4 个都可以一起使用，但是注意，参数定义的顺序必须是：\n",
    "\n",
    "- 位置参数、默认参数、可变参数和关键字参数。\n",
    "- 位置参数、默认参数、命名关键字参数和关键字参数。\n",
    "\n",
    "要注意定义可变参数和关键字参数的语法：\n",
    "\n",
    "- *args 是可变参数，args 接收的是一个 tuple\n",
    "\n",
    "- **kw 是关键字参数，kw 接收的是一个 dict"
   ]
  },
  {
   "cell_type": "markdown",
   "metadata": {},
   "source": [
    "命名关键字参数是为了限制调用者可以传入的参数名，同时可以提供默认值。定义命名关键字参数不要忘了写分隔符*，否则定义的是位置参数。"
   ]
  },
  {
   "cell_type": "markdown",
   "metadata": {},
   "source": [
    "#### 变量作用域"
   ]
  },
  {
   "cell_type": "markdown",
   "metadata": {},
   "source": [
    "- Python 中，程序的变量并不是在哪个位置都可以访问的，访问权限决定于这个变量是在哪里赋值的。\n",
    "- 定义在函数内部的变量拥有局部作用域，该变量称为局部变量。\n",
    "- 定义在函数外部的变量拥有全局作用域，该变量称为全局变量。\n",
    "- 局部变量只能在其被声明的函数内部访问，而全局变量可以在整个程序范围内访问。"
   ]
  },
  {
   "cell_type": "markdown",
   "metadata": {},
   "source": [
    "当内部作用域想修改外部作用域的变量时，就要用到global和nonlocal关键字了。"
   ]
  },
  {
   "cell_type": "code",
   "execution_count": null,
   "metadata": {},
   "outputs": [],
   "source": [
    "num = 1\n",
    "\n",
    "\n",
    "def fun1():\n",
    "    global num  # 需要使用 global 关键字声明\n",
    "    print(num)  # 1\n",
    "    num = 123\n",
    "    print(num)  # 123\n",
    "\n",
    "\n",
    "fun1()\n",
    "print(num)  "
   ]
  },
  {
   "cell_type": "markdown",
   "metadata": {},
   "source": [
    "### 递归\n",
    "设置递归的层数，Python默认递归层数为 100"
   ]
  },
  {
   "cell_type": "code",
   "execution_count": null,
   "metadata": {},
   "outputs": [],
   "source": [
    "import sys\n",
    "\n",
    "sys.setrecursionlimit(1000)"
   ]
  },
  {
   "cell_type": "markdown",
   "metadata": {},
   "source": [
    "在 Python 里有两类函数：\n",
    "\n",
    "- 第一类：用 def 关键词定义的正规函数\n",
    "- 第二类：用 lambda 关键词定义的匿名函数\n",
    "\n",
    "python 使用 lambda 关键词来创建匿名函数，而非def关键词，它没有函数名，其语法结构如下：\n",
    "```python\n",
    " lambda argument_list: expression\n",
    "    ```\n",
    "- lambda - 定义匿名函数的关键词。\n",
    "- argument_list - 函数参数，它们可以是位置参数、默认参数、关键字参数，和正规函数里的参数类型一样。\n",
    "- :- 冒号，在函数参数和表达式中间要加个冒号。\n",
    "-  expression - 只是一个表达式，输入函数参数，输出一些值。\n",
    "\n",
    "注意：\n",
    "\n",
    "- expression 中没有 return 语句，因为 lambda 不需要它来返回，表达式本身结果就是返回值。\n",
    "匿名函数拥有自己的命名空间，且不能访问自己参数列表之外或全局命名空间里的参数。"
   ]
  },
  {
   "cell_type": "code",
   "execution_count": null,
   "metadata": {},
   "outputs": [],
   "source": [
    "lbd_sqr = lambda x: x ** 2\n",
    "print(lbd_sqr)\n",
    "\n",
    "\n",
    "y = [lbd_sqr(x) for x in range(10)]\n",
    "print(y)\n",
    "\n",
    "\n",
    "\n",
    "sumary = lambda arg1, arg2: arg1 + arg2\n",
    "print(sumary(10, 20))  \n",
    "\n",
    "func = lambda *args: sum(args)\n",
    "print(func(1, 2, 3, 4, 5))  "
   ]
  },
  {
   "cell_type": "markdown",
   "metadata": {},
   "source": [
    "匿名函数 常常应用于函数式编程的高阶函数 (high-order function)中，主要有两种形式：\n",
    "\n",
    "- 参数是函数 (filter, map)\n",
    "- 返回值是函数 (closure)\n",
    "\n",
    "如，在 filter和map函数中的应用：\n",
    "\n",
    "- filter(function, iterable) 过滤序列，过滤掉不符合条件的元素，返回一个迭代器对象，如果要转换为列表，可以使用 list() 来转换。"
   ]
  },
  {
   "cell_type": "code",
   "execution_count": null,
   "metadata": {},
   "outputs": [],
   "source": [
    "odd = lambda x: x % 2 == 1\n",
    "templist = filter(odd, [1, 2, 3, 4, 5, 6, 7, 8, 9])\n",
    "print(list(templist))"
   ]
  },
  {
   "cell_type": "markdown",
   "metadata": {},
   "source": [
    "- map(function, *iterables) 根据提供的函数对指定序列做映射。"
   ]
  },
  {
   "cell_type": "code",
   "execution_count": null,
   "metadata": {},
   "outputs": [],
   "source": [
    "m1 = map(lambda x: x ** 2, [1, 2, 3, 4, 5])\n",
    "print(list(m1))  \n",
    "\n",
    "\n",
    "m2 = map(lambda x, y: x + y, [1, 3, 5, 7, 9], [2, 4, 6, 8, 10])\n",
    "print(list(m2))  "
   ]
  },
  {
   "cell_type": "markdown",
   "metadata": {},
   "source": [
    "除了 Python 这些内置函数，我们也可以自己定义高阶函数。"
   ]
  },
  {
   "cell_type": "code",
   "execution_count": null,
   "metadata": {},
   "outputs": [],
   "source": [
    "def apply_to_list(fun, some_list):\n",
    "    return fun(some_list)\n",
    "\n",
    "lst = [1, 2, 3, 4, 5]\n",
    "print(apply_to_list(sum, lst))\n",
    "\n",
    "\n",
    "print(apply_to_list(len, lst))\n",
    "\n",
    "\n",
    "print(apply_to_list(lambda x: sum(x) / len(x), lst))"
   ]
  },
  {
   "cell_type": "markdown",
   "metadata": {},
   "source": [
    "#怎么给函数编写⽂档？\n",
    "定义函数之后直接用双引号写入\n"
   ]
  },
  {
   "cell_type": "code",
   "execution_count": 9,
   "metadata": {},
   "outputs": [],
   "source": [
    "a = [[6, 5], [3, 7], [2, 8]]  \n",
    "#根据首元素排序\n",
    "c = sorted(a, key = lambda x:x[0])"
   ]
  },
  {
   "cell_type": "code",
   "execution_count": 10,
   "metadata": {},
   "outputs": [
    {
     "data": {
      "text/plain": [
       "[[2, 8], [3, 7], [6, 5]]"
      ]
     },
     "execution_count": 10,
     "metadata": {},
     "output_type": "execute_result"
    }
   ],
   "source": [
    "c"
   ]
  },
  {
   "cell_type": "code",
   "execution_count": 11,
   "metadata": {},
   "outputs": [
    {
     "data": {
      "text/plain": [
       "[[6, 5], [3, 7], [2, 8]]"
      ]
     },
     "execution_count": 11,
     "metadata": {},
     "output_type": "execute_result"
    }
   ],
   "source": [
    "#根据尾元素排序\n",
    "d = sorted(a, key = lambda x:x[-1])\n",
    "d"
   ]
  },
  {
   "cell_type": "code",
   "execution_count": 14,
   "metadata": {},
   "outputs": [
    {
     "data": {
      "text/plain": [
       "[[2, 8], [3, 7], [6, 5], [6, 6]]"
      ]
     },
     "execution_count": 14,
     "metadata": {},
     "output_type": "execute_result"
    }
   ],
   "source": [
    "#根据首尾元素共同排序\n",
    "#先根据x[0]进行排序，如果x[0]相等，则再考虑x[-1]\n",
    "\n",
    "a = a = [[6, 5], [3, 7], [6, 6], [2, 8]]  \n",
    "e = sorted(a, key = lambda x:(x[0], x[-1]))\n",
    "e"
   ]
  },
  {
   "cell_type": "code",
   "execution_count": 7,
   "metadata": {},
   "outputs": [
    {
     "data": {
      "text/plain": [
       "'F:\\\\competetion\\\\NLP\\\\python'"
      ]
     },
     "execution_count": 7,
     "metadata": {},
     "output_type": "execute_result"
    }
   ],
   "source": [
    "%pwd"
   ]
  },
  {
   "cell_type": "code",
   "execution_count": 8,
   "metadata": {},
   "outputs": [
    {
     "name": "stderr",
     "output_type": "stream",
     "text": [
      "'pwd' 不是内部或外部命令，也不是可运行的程序\n",
      "或批处理文件。\n"
     ]
    }
   ],
   "source": [
    "!pwd"
   ]
  },
  {
   "cell_type": "code",
   "execution_count": null,
   "metadata": {},
   "outputs": [],
   "source": []
  }
 ],
 "metadata": {
  "kernelspec": {
   "display_name": "Python 3",
   "language": "python",
   "name": "python3"
  },
  "language_info": {
   "codemirror_mode": {
    "name": "ipython",
    "version": 3
   },
   "file_extension": ".py",
   "mimetype": "text/x-python",
   "name": "python",
   "nbconvert_exporter": "python",
   "pygments_lexer": "ipython3",
   "version": "3.7.7"
  }
 },
 "nbformat": 4,
 "nbformat_minor": 4
}
