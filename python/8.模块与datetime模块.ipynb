{
 "cells": [
  {
   "cell_type": "markdown",
   "metadata": {},
   "source": [
    "## 模块\n",
    "为此 Python 提供了一个办法，把这些定义存放在文件中，为一些脚本或者交互式的解释器实例使用，这个文件被称为模块（Module）。\n",
    "\n",
    "模块是一个包含所有你定义的函数和变量的文件，其后缀名是.py。模块可以被别的程序引入，以使用该模块中的函数等功能。这也是使用 Python 标准库的方法。"
   ]
  },
  {
   "cell_type": "markdown",
   "metadata": {},
   "source": [
    "对于很多编程语言来说，程序都必须要有一个入口，而 Python 则不同，它属于脚本语言，不像编译型语言那样先将程序编译成二进制再运行，而是动态的逐行解释运行。也就是从脚本第一行开始运行，没有统一的入口。"
   ]
  },
  {
   "cell_type": "markdown",
   "metadata": {},
   "source": [
    "__name__：是内置变量，可用于表示当前模块的名字。\n",
    "\n",
    "\n",
    "由此我们可知：如果一个 .py 文件（模块）被直接运行时，其__name__值为__main__，即模块名为__main__。\n",
    "\n",
    "所以，if __name__ == '__main__'的意思是：当 .py 文件被直接运行时，if __name__ == '__main__'之下的代码块将被运行；当 .py 文件以模块形式被导入时，if __name__ == '__main__'之下的代码块不被运行。"
   ]
  },
  {
   "cell_type": "code",
   "execution_count": 1,
   "metadata": {},
   "outputs": [
    {
     "name": "stdout",
     "output_type": "stream",
     "text": [
      "['F:\\\\competetion\\\\NLP\\\\python', 'E:\\\\ProgramFiles\\\\Anaconda\\\\python37.zip', 'E:\\\\ProgramFiles\\\\Anaconda\\\\DLLs', 'E:\\\\ProgramFiles\\\\Anaconda\\\\lib', 'E:\\\\ProgramFiles\\\\Anaconda', '', 'E:\\\\ProgramFiles\\\\Anaconda\\\\lib\\\\site-packages', 'E:\\\\ProgramFiles\\\\Anaconda\\\\lib\\\\site-packages\\\\win32', 'E:\\\\ProgramFiles\\\\Anaconda\\\\lib\\\\site-packages\\\\win32\\\\lib', 'E:\\\\ProgramFiles\\\\Anaconda\\\\lib\\\\site-packages\\\\Pythonwin', 'E:\\\\ProgramFiles\\\\Anaconda\\\\lib\\\\site-packages\\\\IPython\\\\extensions', 'C:\\\\Users\\\\Jerria Ye\\\\.ipython']\n"
     ]
    }
   ],
   "source": [
    "import sys\n",
    "\n",
    "print(sys.path)"
   ]
  },
  {
   "cell_type": "markdown",
   "metadata": {},
   "source": [
    "#### 6. 包（package）\n",
    "包是一种管理 Python 模块命名空间的形式，采用\"点模块名称\"。\n",
    "\n",
    "创建包分为三个步骤：\n",
    "\n",
    "创建一个文件夹，用于存放相关的模块，文件夹的名字即包的名字。\n",
    "在文件夹中创建一个 __init__.py 的模块文件，内容可以为空。\n",
    "将相关的模块放入文件夹中。"
   ]
  },
  {
   "cell_type": "markdown",
   "metadata": {},
   "source": [
    "在导入一个包的时候，Python 会根据 sys.path 中的目录来寻找这个包中包含的子目录。\n",
    "\n",
    "目录只有包含一个叫做 __init__.py 的文件才会被认作是一个包，最简单的情况，放一个空的 __init__.py 就可以了。"
   ]
  },
  {
   "cell_type": "markdown",
   "metadata": {},
   "source": [
    "## datetime模块"
   ]
  },
  {
   "cell_type": "markdown",
   "metadata": {},
   "source": [
    "datetime 是 Python 中处理日期的标准模块，它提供了 4 种对日期和时间进行处理的类：datetime、date、time 和 timedelta。"
   ]
  },
  {
   "cell_type": "markdown",
   "metadata": {},
   "source": [
    "### 1.datetime模块"
   ]
  },
  {
   "cell_type": "markdown",
   "metadata": {},
   "source": [
    "- datetime.now(tz=None) 获取当前的日期时间，输出顺序为：年、月、日、时、分、秒、微秒。\n",
    "- datetime.timestamp() 获取以 1970年1月1日为起点记录的秒数。\n",
    "- datetime.fromtimestamp(tz=None) 使用 unixtimestamp 创建一个 datetime"
   ]
  },
  {
   "cell_type": "code",
   "execution_count": 3,
   "metadata": {},
   "outputs": [
    {
     "name": "stdout",
     "output_type": "stream",
     "text": [
      "2020-08-07 22:06:55.670519\n",
      "<class 'datetime.datetime'>\n"
     ]
    }
   ],
   "source": [
    "import datetime\n",
    "\n",
    "dt = datetime.datetime.now()\n",
    "print(dt)  \n",
    "print(type(dt))"
   ]
  },
  {
   "cell_type": "markdown",
   "metadata": {},
   "source": [
    "- datetime.strftime(fmt) 格式化 datetime 对象。\n",
    "\n",
    "将 datetime 对象转换为任何格式的日期"
   ]
  },
  {
   "cell_type": "code",
   "execution_count": 4,
   "metadata": {},
   "outputs": [
    {
     "name": "stdout",
     "output_type": "stream",
     "text": [
      "'2020/06/25 11:51:49\n",
      "25 June, 2020, Thursday\n"
     ]
    }
   ],
   "source": [
    "import datetime\n",
    "\n",
    "dt = datetime.datetime(year=2020, month=6, day=25, hour=11, minute=51, second=49)\n",
    "s = dt.strftime(\"'%Y/%m/%d %H:%M:%S\")\n",
    "print(s)  \n",
    "\n",
    "s = dt.strftime('%d %B, %Y, %A')\n",
    "print(s)"
   ]
  },
  {
   "cell_type": "markdown",
   "metadata": {},
   "source": [
    "- datetime.date() Return the date part.\n",
    "- datetime.time() Return the time part, with tzinfo None.\n",
    "- datetime.year 年\n",
    "- datetime.month 月\n",
    "- datetime.day 日\n",
    "- datetime.hour 小时\n",
    "- datetime.minute 分钟\n",
    "- datetime.second 秒\n",
    "- datetime.isoweekday 星期几"
   ]
  },
  {
   "cell_type": "markdown",
   "metadata": {},
   "source": [
    "在处理含有字符串日期的数据集或表格时，我们需要一种自动解析字符串的方法，无论它是什么格式的，都可以将其转化为 datetime 对象。这时，就要使用到 dateutil 中的 parser 模块。\n",
    "\n",
    "- parser.parse(timestr, parserinfo=None, **kwargs)"
   ]
  },
  {
   "cell_type": "markdown",
   "metadata": {},
   "source": [
    "如何在 python 中将字符串解析为 datetime对象？"
   ]
  },
  {
   "cell_type": "code",
   "execution_count": 6,
   "metadata": {},
   "outputs": [
    {
     "name": "stdout",
     "output_type": "stream",
     "text": [
      "2020-06-25 00:00:00\n",
      "<class 'datetime.datetime'>\n",
      "2010-03-31 22:51:00\n",
      "<class 'datetime.datetime'>\n"
     ]
    }
   ],
   "source": [
    "from dateutil import parser\n",
    "\n",
    "s = '2020-06-25'\n",
    "dt = parser.parse(s)\n",
    "print(dt)  \n",
    "print(type(dt))  \n",
    "\n",
    "s = 'March 31, 2010, 10:51pm'\n",
    "dt = parser.parse(s)\n",
    "print(dt)  \n",
    "print(type(dt)) "
   ]
  },
  {
   "cell_type": "code",
   "execution_count": 7,
   "metadata": {},
   "outputs": [
    {
     "name": "stdout",
     "output_type": "stream",
     "text": [
      "2010-01-01 00:00:00\n",
      "2000-01-31 00:00:00\n",
      "1996-10-10 22:40:00\n"
     ]
    }
   ],
   "source": [
    "#如何将字符串日期解析为 datetime 对象？\n",
    "from dateutil import parser\n",
    "\n",
    "s1 = \"2010 Jan 1\"\n",
    "s2 = '31-1-2000'\n",
    "s3 = 'October10, 1996, 10:40pm'\n",
    "\n",
    "dt1 = parser.parse(s1)\n",
    "dt2 = parser.parse(s2)\n",
    "dt3 = parser.parse(s3)\n",
    "\n",
    "print(dt1)  \n",
    "print(dt2)  \n",
    "print(dt3) "
   ]
  },
  {
   "cell_type": "markdown",
   "metadata": {},
   "source": [
    "计算以下列表中连续的天数。\n",
    "\n",
    "输入\n",
    "\n",
    "['Oct, 2, 1869', 'Oct, 10, 1869', 'Oct, 15, 1869', 'Oct, 20, 1869','Oct, 23, 1869']\n",
    "\n",
    " 输出\n",
    " \n",
    "[8, 5, 5, 3]"
   ]
  },
  {
   "cell_type": "code",
   "execution_count": 8,
   "metadata": {},
   "outputs": [
    {
     "name": "stdout",
     "output_type": "stream",
     "text": [
      "[datetime.timedelta(days=8) datetime.timedelta(days=5)\n",
      " datetime.timedelta(days=5) datetime.timedelta(days=3)]\n",
      "[8, 5, 5, 3]\n"
     ]
    }
   ],
   "source": [
    "import numpy as np\n",
    "from dateutil import parser\n",
    "\n",
    "dateString = ['Oct, 2, 1869', 'Oct, 10, 1869', 'Oct, 15, 1869', 'Oct, 20, 1869', 'Oct, 23, 1869']\n",
    "dates = [parser.parse(i) for i in dateString]\n",
    "td = np.diff(dates)\n",
    "print(td)\n",
    "\n",
    "d = [i.days for i in td]\n",
    "print(d)  "
   ]
  },
  {
   "cell_type": "markdown",
   "metadata": {},
   "source": [
    "### 2. date类"
   ]
  },
  {
   "cell_type": "code",
   "execution_count": null,
   "metadata": {},
   "outputs": [],
   "source": [
    "class date:\n",
    "    def __init__(self, year, month, day):\n",
    "        pass\n",
    "    def today(cls):\n",
    "        pass"
   ]
  },
  {
   "cell_type": "markdown",
   "metadata": {},
   "source": [
    "- date.today() 获取当前日期信息"
   ]
  },
  {
   "cell_type": "code",
   "execution_count": 9,
   "metadata": {},
   "outputs": [
    {
     "name": "stdout",
     "output_type": "stream",
     "text": [
      "2020-06-25\n",
      "<class 'datetime.date'>\n",
      "2020-08-07\n",
      "<class 'datetime.date'>\n"
     ]
    }
   ],
   "source": [
    "#如何在 Python 中获取当前日期和时间？\n",
    "\n",
    "import datetime\n",
    "\n",
    "d = datetime.date(2020, 6, 25)\n",
    "print(d)  \n",
    "print(type(d))  \n",
    "\n",
    "d = datetime.date.today()\n",
    "print(d)  \n",
    "print(type(d))"
   ]
  },
  {
   "cell_type": "code",
   "execution_count": 10,
   "metadata": {},
   "outputs": [
    {
     "name": "stdout",
     "output_type": "stream",
     "text": [
      "273\n",
      "6\n",
      "40\n"
     ]
    }
   ],
   "source": [
    "#如何统计两个日期之间有多少个星期六？\n",
    "import datetime\n",
    "\n",
    "d1 = datetime.date(1869, 1, 2)\n",
    "d2 = datetime.date(1869, 10, 2)\n",
    "dt = (d2 - d1).days #计算两个日期的天数间隔\n",
    "print(dt)\n",
    "print(d1.isoweekday()) \n",
    "print(dt // 7 + 1)#天数除以7得到总共星期数，再加上d1那天也是周六"
   ]
  },
  {
   "cell_type": "markdown",
   "metadata": {},
   "source": [
    "### time类"
   ]
  },
  {
   "cell_type": "code",
   "execution_count": null,
   "metadata": {},
   "outputs": [],
   "source": [
    "class time:\n",
    "    def __init__(self, hour, minute, second, microsecond, tzinfo):\n",
    "        pass"
   ]
  },
  {
   "cell_type": "code",
   "execution_count": 11,
   "metadata": {},
   "outputs": [
    {
     "name": "stdout",
     "output_type": "stream",
     "text": [
      "12:09:23.012980\n",
      "<class 'datetime.time'>\n"
     ]
    }
   ],
   "source": [
    "import datetime\n",
    "\n",
    "t = datetime.time(12, 9, 23, 12980)\n",
    "print(t)  \n",
    "print(type(t))"
   ]
  },
  {
   "cell_type": "code",
   "execution_count": 12,
   "metadata": {},
   "outputs": [
    {
     "name": "stdout",
     "output_type": "stream",
     "text": [
      "2019-10-02 00:00:00\n",
      "2019-10-02 00:00:00\n"
     ]
    }
   ],
   "source": [
    "#如何将给定日期转换为当天开始的时间？\n",
    "\n",
    "import datetime\n",
    "\n",
    "date = datetime.date(2019, 10, 2)\n",
    "dt = datetime.datetime(date.year, date.month, date.day)\n",
    "print(dt)  \n",
    "\n",
    "dt = datetime.datetime.combine(date, datetime.time.min)\n",
    "print(dt)"
   ]
  },
  {
   "cell_type": "markdown",
   "metadata": {},
   "source": [
    "### 4. timedelta类\n",
    "\n",
    "timedelta 表示具体时间实例中的一段时间。你可以把它们简单想象成两个日期或时间之间的间隔。\n",
    "\n",
    "它常常被用来从 datetime 对象中添加或移除一段特定的时间。"
   ]
  },
  {
   "cell_type": "code",
   "execution_count": null,
   "metadata": {},
   "outputs": [],
   "source": [
    "class timedelta(SupportsAbs[timedelta]):\n",
    "    def __init__(self, days, seconds, microseconds, milliseconds, minutes, hours, weeks,):\n",
    "        pass\n",
    "    def days(self):\n",
    "        pass\n",
    "    def total_seconds(self):\n",
    "        pass"
   ]
  },
  {
   "cell_type": "markdown",
   "metadata": {},
   "source": [
    "如果将两个 datetime 对象相减，就会得到表示该时间间隔的 timedelta 对象。\n",
    "\n",
    "同样地，将两个时间间隔相减，可以得到另一个 timedelta 对象。"
   ]
  },
  {
   "cell_type": "code",
   "execution_count": 13,
   "metadata": {},
   "outputs": [
    {
     "name": "stdout",
     "output_type": "stream",
     "text": [
      "30 days, 0:00:00\n",
      "<class 'datetime.timedelta'>\n",
      "2020-08-07\n",
      "2020-09-06\n",
      "365 days, 0:00:00\n",
      "<class 'datetime.timedelta'>\n",
      "23 days, 0:00:00\n",
      "<class 'datetime.timedelta'>\n"
     ]
    }
   ],
   "source": [
    "# 如何使用 datetime.timedelta() 类？\n",
    "\n",
    "import datetime\n",
    "\n",
    "# 1.利用timedelta增加一段时间\n",
    "td = datetime.timedelta(days=30)\n",
    "print(td)  \n",
    "print(type(td))  \n",
    "print(datetime.date.today())  \n",
    "print(datetime.date.today() + td)  \n",
    "\n",
    "# 2.利用timedelta求两段日期的间隔\n",
    "dt1 = datetime.datetime(2020, 1, 31, 10, 10, 0)\n",
    "dt2 = datetime.datetime(2019, 1, 31, 10, 10, 0)\n",
    "td = dt1 - dt2\n",
    "print(td)  \n",
    "print(type(td))  \n",
    "\n",
    "\n",
    "# 3.利用timedelta求两段间隔的日期差\n",
    "td1 = datetime.timedelta(days=30)  # 30 days\n",
    "td2 = datetime.timedelta(weeks=1)  # 1 week\n",
    "td = td1 - td2\n",
    "print(td)  \n",
    "print(type(td)) "
   ]
  },
  {
   "cell_type": "markdown",
   "metadata": {},
   "source": [
    "#### 练习题"
   ]
  },
  {
   "cell_type": "code",
   "execution_count": 14,
   "metadata": {},
   "outputs": [
    {
     "name": "stdout",
     "output_type": "stream",
     "text": [
      "9018 days, 5:04:00\n",
      "<class 'datetime.timedelta'>\n"
     ]
    }
   ],
   "source": [
    "# 1，距离我出生那天过去了\n",
    "dt1 = datetime.datetime(2020, 8, 7, 22, 29, 0)\n",
    "dt2 = datetime.datetime(1995, 11, 29, 17, 25, 0)\n",
    "td = dt1 - dt2\n",
    "print(td)  \n",
    "print(type(td))  "
   ]
  },
  {
   "cell_type": "code",
   "execution_count": 16,
   "metadata": {},
   "outputs": [
    {
     "name": "stdout",
     "output_type": "stream",
     "text": [
      "107 days, 0:00:00\n",
      "<class 'datetime.timedelta'>\n"
     ]
    }
   ],
   "source": [
    "# 距离你今年的下一个生日还有多少天？\n",
    "dt1 = datetime.datetime(2020, 8, 7, 22, 29, 0)\n",
    "dt2 = datetime.datetime(2020, 11, 22, 22, 29, 0)\n",
    "td = dt2 - dt1\n",
    "print(td)  \n",
    "print(type(td))"
   ]
  },
  {
   "cell_type": "code",
   "execution_count": 17,
   "metadata": {},
   "outputs": [
    {
     "name": "stdout",
     "output_type": "stream",
     "text": [
      "9244800\n"
     ]
    }
   ],
   "source": [
    "print(td.days * 24 * 60 * 60) "
   ]
  },
  {
   "cell_type": "markdown",
   "metadata": {},
   "source": [
    "1、假设你获取了用户输入的日期和时间如2020-1-21 9:01:30，以及一个时区信息如UTC+5:00，均是str，请编写一个函数将其转换为timestamp："
   ]
  },
  {
   "cell_type": "code",
   "execution_count": null,
   "metadata": {},
   "outputs": [],
   "source": [
    "\"\"\"\n",
    "   \n",
    "Input file\n",
    "example1: dt_str='2020-6-1 08:10:30', tz_str='UTC+7:00'\n",
    "example2: dt_str='2020-5-31 16:10:30', tz_str='UTC-09:00'\n",
    "   \n",
    "Output file\n",
    "result1: 1590973830.0\n",
    "result2: 1590973830.0\n",
    "\"\"\"\n",
    "   \n",
    "   \n",
    "def to_timestamp(dt_str, tz_str):\n",
    "    dt = parser.parse(dt_str)\n",
    "    return dt.timestamp()\n",
    "    # your code here"
   ]
  },
  {
   "cell_type": "markdown",
   "metadata": {},
   "source": [
    "2、编写Python程序以选择指定年份的所有星期日。"
   ]
  },
  {
   "cell_type": "code",
   "execution_count": 19,
   "metadata": {},
   "outputs": [],
   "source": [
    "from datetime import date,timedelta\n",
    "\n",
    "def all_sundays(year):\n",
    "    dtstart = date(year, 1, 1)\n",
    "    dtstart += timedelta(days=(6-dtstart.weekday())) \n",
    "    while dtstart.year == year:\n",
    "        yield dtstart\n",
    "        dtstart += timedelta(days=7)"
   ]
  },
  {
   "cell_type": "code",
   "execution_count": 23,
   "metadata": {},
   "outputs": [
    {
     "ename": "TypeError",
     "evalue": "'datetime.date' object is not callable",
     "output_type": "error",
     "traceback": [
      "\u001b[1;31m---------------------------------------------------------------------------\u001b[0m",
      "\u001b[1;31mTypeError\u001b[0m                                 Traceback (most recent call last)",
      "\u001b[1;32m<ipython-input-23-bc734c13df06>\u001b[0m in \u001b[0;36m<module>\u001b[1;34m\u001b[0m\n\u001b[1;32m----> 1\u001b[1;33m \u001b[1;32mfor\u001b[0m \u001b[0mi\u001b[0m \u001b[1;32min\u001b[0m \u001b[0mall_sundays\u001b[0m\u001b[1;33m(\u001b[0m\u001b[1;36m2020\u001b[0m\u001b[1;33m)\u001b[0m\u001b[1;33m:\u001b[0m\u001b[1;33m\u001b[0m\u001b[1;33m\u001b[0m\u001b[0m\n\u001b[0m\u001b[0;32m      2\u001b[0m     \u001b[0mall_sundays\u001b[0m\u001b[1;33m.\u001b[0m\u001b[0mnext\u001b[0m\u001b[1;33m(\u001b[0m\u001b[1;33m)\u001b[0m\u001b[1;33m\u001b[0m\u001b[1;33m\u001b[0m\u001b[0m\n",
      "\u001b[1;32m<ipython-input-19-52338987c24f>\u001b[0m in \u001b[0;36mall_sundays\u001b[1;34m(year)\u001b[0m\n\u001b[0;32m      2\u001b[0m \u001b[1;33m\u001b[0m\u001b[0m\n\u001b[0;32m      3\u001b[0m \u001b[1;32mdef\u001b[0m \u001b[0mall_sundays\u001b[0m\u001b[1;33m(\u001b[0m\u001b[0myear\u001b[0m\u001b[1;33m)\u001b[0m\u001b[1;33m:\u001b[0m\u001b[1;33m\u001b[0m\u001b[1;33m\u001b[0m\u001b[0m\n\u001b[1;32m----> 4\u001b[1;33m     \u001b[0mdtstart\u001b[0m \u001b[1;33m=\u001b[0m \u001b[0mdate\u001b[0m\u001b[1;33m(\u001b[0m\u001b[0myear\u001b[0m\u001b[1;33m,\u001b[0m \u001b[1;36m1\u001b[0m\u001b[1;33m,\u001b[0m \u001b[1;36m1\u001b[0m\u001b[1;33m)\u001b[0m\u001b[1;33m\u001b[0m\u001b[1;33m\u001b[0m\u001b[0m\n\u001b[0m\u001b[0;32m      5\u001b[0m     \u001b[0mdtstart\u001b[0m \u001b[1;33m+=\u001b[0m \u001b[0mtimedelta\u001b[0m\u001b[1;33m(\u001b[0m\u001b[0mdays\u001b[0m\u001b[1;33m=\u001b[0m\u001b[1;33m(\u001b[0m\u001b[1;36m6\u001b[0m\u001b[1;33m-\u001b[0m\u001b[0mdtstart\u001b[0m\u001b[1;33m.\u001b[0m\u001b[0mweekday\u001b[0m\u001b[1;33m(\u001b[0m\u001b[1;33m)\u001b[0m\u001b[1;33m)\u001b[0m\u001b[1;33m)\u001b[0m\u001b[1;33m\u001b[0m\u001b[1;33m\u001b[0m\u001b[0m\n\u001b[0;32m      6\u001b[0m     \u001b[1;32mwhile\u001b[0m \u001b[0mdtstart\u001b[0m\u001b[1;33m.\u001b[0m\u001b[0myear\u001b[0m \u001b[1;33m==\u001b[0m \u001b[0myear\u001b[0m\u001b[1;33m:\u001b[0m\u001b[1;33m\u001b[0m\u001b[1;33m\u001b[0m\u001b[0m\n",
      "\u001b[1;31mTypeError\u001b[0m: 'datetime.date' object is not callable"
     ]
    }
   ],
   "source": [
    "for i in all_sundays(2020):\n",
    "    all_sundays.next()"
   ]
  },
  {
   "cell_type": "code",
   "execution_count": null,
   "metadata": {},
   "outputs": [],
   "source": []
  }
 ],
 "metadata": {
  "kernelspec": {
   "display_name": "Python 3",
   "language": "python",
   "name": "python3"
  },
  "language_info": {
   "codemirror_mode": {
    "name": "ipython",
    "version": 3
   },
   "file_extension": ".py",
   "mimetype": "text/x-python",
   "name": "python",
   "nbconvert_exporter": "python",
   "pygments_lexer": "ipython3",
   "version": "3.7.7"
  }
 },
 "nbformat": 4,
 "nbformat_minor": 4
}
