{
 "cells": [
  {
   "cell_type": "markdown",
   "metadata": {},
   "source": [
    "### 原码，反码与补码\n",
    "\n",
    "二进制有三种不同的表示形式：原码、反码和补码，**计算机内部使用补码来表示。**\n",
    "\n",
    "\n",
    "- 原码：就是其二进制表示（注意，最高位是符号位）。\n",
    "- 反码：正数的反码就是原码，负数的反码是符号位不变，其余位取反（对应正数按位取反）。\n",
    "- 补码：正数的补码就是原码，负数的补码是反码+1。\n",
    "\n",
    "符号位：最高位为符号位，0表示正数，1表示负数。在位运算中符号位也参与运算。"
   ]
  },
  {
   "cell_type": "markdown",
   "metadata": {},
   "source": [
    "### 按位非操作\n",
    "\n",
    "~ 把num的补码中的 0 和 1 全部取反（0 变为 1，1 变为 0）有符号整数的符号位在 ~ 运算中同样会取反。\n",
    "### 按位与操作& \n",
    "只有两个对应位都为 1 时才为 1\n",
    "通过 a & (-a) 快速获取a的最后为 1 位置的整数。\n",
    "### 按位或操作 |\n",
    "\n",
    "### 按位异或操作 ^\n",
    "只有两个对应位不同时才为 1；异或操作的性质：满足交换律和结合律\n",
    "通过 ^ 快速交换两个整数。\n",
    "a ^= b\n",
    "b ^= a\n",
    "a ^= b\n",
    "### 按位左移操作 <<\n",
    "num << i 将num的二进制表示向左移动i位所得的值。\n",
    "通过 <<，>> 快速计算2的倍数问题。\n",
    "n << 1 -> 计算 n*2\n",
    "n >> 1 -> 计算 n/2，负奇数的运算不可用\n",
    "n << m -> 计算 n*(2^m)，即乘以 2 的 m 次方\n",
    "n >> m -> 计算 n/(2^m)，即除以 2 的 m 次方\n",
    "1 << n -> 2^n"
   ]
  },
  {
   "cell_type": "code",
   "execution_count": 1,
   "metadata": {},
   "outputs": [
    {
     "data": {
      "text/plain": [
       "'0b100'"
      ]
     },
     "execution_count": 1,
     "metadata": {},
     "output_type": "execute_result"
    }
   ],
   "source": [
    "bin(4)"
   ]
  },
  {
   "cell_type": "code",
   "execution_count": 2,
   "metadata": {},
   "outputs": [
    {
     "data": {
      "text/plain": [
       "'-0b101'"
      ]
     },
     "execution_count": 2,
     "metadata": {},
     "output_type": "execute_result"
    }
   ],
   "source": [
    "bin(~4)"
   ]
  },
  {
   "cell_type": "markdown",
   "metadata": {},
   "source": [
    "### 利用位运算实现整数集合\n",
    "一个数的二进制表示可以看作是一个集合（0 表示不在集合中，1 表示在集合中）。\n",
    "\n",
    "比如集合 {1, 3, 4, 8}，可以表示成 01 00 01 10 10 而对应的位运算也就可以看作是对集合进行的操作。\n",
    "\n",
    "元素与集合的操作：\n",
    "\n",
    "a | (1<<i)  -> 把 i 插入到集合中\n",
    "a & ~(1<<i) -> 把 i 从集合中删除\n",
    "a & (1<<i)  -> 判断 i 是否属于该集合（零不属于，非零属于）\n",
    "集合之间的操作：\n",
    "\n",
    "a 补   -> ~a\n",
    "a 交 b -> a & b\n",
    "a 并 b -> a | b\n",
    "a 差 b -> a & (~b)\n",
    "注意：整数在内存中是以补码的形式存在的，输出自然也是按照补码输出。"
   ]
  },
  {
   "cell_type": "markdown",
   "metadata": {},
   "source": [
    "- Python中bin一个负数（十进制表示），输出的是它的原码的二进制表示加上个负号，巨坑。\n",
    "- Python中的整型是补码形式存储的。\n",
    "所以为了获得负数（十进制表示）的补码，需要手动将其和十六进制数0xffffffff进行按位与操作，再交给bin()进行输出，得到的才是负数的补码表示。\n",
    "- Python中整型是不限制长度的不会超范围溢出。\n"
   ]
  },
  {
   "cell_type": "code",
   "execution_count": 5,
   "metadata": {},
   "outputs": [
    {
     "data": {
      "text/plain": [
       "'0b11'"
      ]
     },
     "execution_count": 5,
     "metadata": {},
     "output_type": "execute_result"
    }
   ],
   "source": [
    "bin(3)"
   ]
  },
  {
   "cell_type": "code",
   "execution_count": 6,
   "metadata": {},
   "outputs": [
    {
     "data": {
      "text/plain": [
       "'-0b11'"
      ]
     },
     "execution_count": 6,
     "metadata": {},
     "output_type": "execute_result"
    }
   ],
   "source": [
    "bin(-3)"
   ]
  },
  {
   "cell_type": "code",
   "execution_count": 7,
   "metadata": {},
   "outputs": [
    {
     "data": {
      "text/plain": [
       "'0b11111111111111111111111111111101'"
      ]
     },
     "execution_count": 7,
     "metadata": {},
     "output_type": "execute_result"
    }
   ],
   "source": [
    "bin(-3 & 0xffffffff)"
   ]
  },
  {
   "cell_type": "code",
   "execution_count": 8,
   "metadata": {},
   "outputs": [
    {
     "data": {
      "text/plain": [
       "4294967293"
      ]
     },
     "execution_count": 8,
     "metadata": {},
     "output_type": "execute_result"
    }
   ],
   "source": [
    "0xfffffffd"
   ]
  },
  {
   "cell_type": "code",
   "execution_count": 9,
   "metadata": {},
   "outputs": [
    {
     "name": "stdout",
     "output_type": "stream",
     "text": [
      "0b11\n",
      "-0b11\n",
      "0b11111111111111111111111111111101\n",
      "0b11111111111111111111111111111101\n",
      "4294967293\n"
     ]
    }
   ],
   "source": [
    "print(bin(3))  # 0b11\n",
    "print(bin(-3))  # -0b11\n",
    "\n",
    "print(bin(-3 & 0xffffffff))  \n",
    "# 0b11111111111111111111111111111101\n",
    "\n",
    "print(bin(0xfffffffd))       \n",
    "# 0b11111111111111111111111111111101\n",
    "\n",
    "print(0xfffffffd)  # 4294967293"
   ]
  },
  {
   "cell_type": "code",
   "execution_count": null,
   "metadata": {},
   "outputs": [],
   "source": []
  }
 ],
 "metadata": {
  "kernelspec": {
   "display_name": "Python 3",
   "language": "python",
   "name": "python3"
  },
  "language_info": {
   "codemirror_mode": {
    "name": "ipython",
    "version": 3
   },
   "file_extension": ".py",
   "mimetype": "text/x-python",
   "name": "python",
   "nbconvert_exporter": "python",
   "pygments_lexer": "ipython3",
   "version": "3.7.7"
  }
 },
 "nbformat": 4,
 "nbformat_minor": 4
}
