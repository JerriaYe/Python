{
 "cells": [
  {
   "cell_type": "markdown",
   "metadata": {},
   "source": [
    "异常就是运行期检测到的错误。"
   ]
  },
  {
   "cell_type": "markdown",
   "metadata": {},
   "source": [
    "### try - except 语句\n",
    "\n",
    "try:\n",
    "    检测范围\n",
    "except Exception[as reason]:\n",
    "    出现异常后的处理代码\n",
    "\n",
    "- try 语句按照如下方式工作：\n",
    "\n",
    "首先，执行try子句（在关键字try和关键字except之间的语句）\n",
    "如果没有异常发生，忽略except子句，try子句执行后结束。\n",
    "如果在执行try子句的过程中发生了异常，那么try子句余下的部分将被忽略。如果异常的类型和except之后的名称相符，那么对应的except子句将被执行。最后执行try语句之后的代码。\n",
    "如果一个异常没有与任何的except匹配，那么这个异常将会传递给上层的try中。\n",
    "\n",
    "- 一个try语句可能包含多个except子句，分别来处理不同的特定的异常。最多只有一个分支会被执行。"
   ]
  },
  {
   "cell_type": "code",
   "execution_count": 4,
   "metadata": {},
   "outputs": [
    {
     "name": "stdout",
     "output_type": "stream",
     "text": [
      "b'hello\\xef\\xbc\\x8cmy friend\\xef\\xbc\\x81\\r\\nNice to meet you.'\n"
     ]
    }
   ],
   "source": [
    "try:\n",
    "    f = open('test.txt', 'rb')\n",
    "    print(f.read())\n",
    "    f.close()\n",
    "except OSError:\n",
    "    print('打开文件出错')"
   ]
  },
  {
   "cell_type": "code",
   "execution_count": 5,
   "metadata": {},
   "outputs": [
    {
     "name": "stdout",
     "output_type": "stream",
     "text": [
      "hello，my friend！\n",
      "Nice to meet you.\n"
     ]
    }
   ],
   "source": [
    "try:\n",
    "    f = open('test.txt', encoding='UTF-8')\n",
    "    print(f.read())\n",
    "    f.close()\n",
    "except OSError:\n",
    "    print('打开文件出错')\n"
   ]
  },
  {
   "cell_type": "code",
   "execution_count": 6,
   "metadata": {},
   "outputs": [
    {
     "name": "stdout",
     "output_type": "stream",
     "text": [
      "打开文件出错\n",
      "原因是：[Errno 2] No such file or directory: 'test1.txt'\n"
     ]
    }
   ],
   "source": [
    "try:\n",
    "    f = open('test1.txt')\n",
    "    print(f.read())\n",
    "    f.close()\n",
    "except OSError as error:\n",
    "    print('打开文件出错\\n原因是：' + str(error))\n",
    "\n",
    "# 打开文件出错\n",
    "# 原因是：[Errno 2] No such file or directory: 'test.txt'"
   ]
  },
  {
   "cell_type": "code",
   "execution_count": 12,
   "metadata": {},
   "outputs": [
    {
     "name": "stdout",
     "output_type": "stream",
     "text": [
      "请输入一个数字: ere\n",
      "您输入的不是数字，请再次尝试输入！\n",
      "请输入一个数字: 12s\n",
      "您输入的不是数字，请再次尝试输入！\n",
      "请输入一个数字: ss\n",
      "您输入的不是数字，请再次尝试输入！\n",
      "请输入一个数字: dd\n",
      "您输入的不是数字，请再次尝试输入！\n",
      "请输入一个数字: 123\n"
     ]
    }
   ],
   "source": [
    "while True:\n",
    "    try:\n",
    "        x = int(input(\"请输入一个数字: \")) \n",
    "        #因为python输入默认是string，\n",
    "#         而字符输入int函数没法发挥作用，所以只有当输入数字时候才能发挥作用\n",
    "        break\n",
    "    except ValueError:\n",
    "        print(\"您输入的不是数字，请再次尝试输入！\")\n"
   ]
  },
  {
   "cell_type": "code",
   "execution_count": 7,
   "metadata": {},
   "outputs": [
    {
     "name": "stdout",
     "output_type": "stream",
     "text": [
      "数值出错\n",
      "原因是：invalid literal for int() with base 10: 'abc'\n"
     ]
    }
   ],
   "source": [
    "try:\n",
    "    int(\"abc\")\n",
    "    s = 1 + '1'\n",
    "    f = open('test.txt')\n",
    "    print(f.read())\n",
    "    f.close()\n",
    "except OSError as error:\n",
    "    print('打开文件出错\\n原因是：' + str(error))\n",
    "except TypeError as error:\n",
    "    print('类型出错\\n原因是：' + str(error))\n",
    "except ValueError as error:\n",
    "    print('数值出错\\n原因是：' + str(error))"
   ]
  },
  {
   "cell_type": "code",
   "execution_count": 8,
   "metadata": {},
   "outputs": [
    {
     "name": "stdout",
     "output_type": "stream",
     "text": [
      "查询错误\n"
     ]
    }
   ],
   "source": [
    "dict1 = {'a': 1, 'b': 2, 'v': 22}\n",
    "try:\n",
    "    x = dict1['y']\n",
    "except LookupError:\n",
    "    print('查询错误')\n",
    "except KeyError:\n",
    "    print('键错误')\n",
    "else:\n",
    "    print(x)"
   ]
  },
  {
   "cell_type": "markdown",
   "metadata": {},
   "source": [
    "一个 except 子句可以同时处理多个异常，这些异常将被放在一个括号里成为一个元组。"
   ]
  },
  {
   "cell_type": "code",
   "execution_count": 9,
   "metadata": {},
   "outputs": [
    {
     "name": "stdout",
     "output_type": "stream",
     "text": [
      "出错了！\n",
      "原因是：unsupported operand type(s) for +: 'int' and 'str'\n"
     ]
    }
   ],
   "source": [
    "try:\n",
    "    s = 1 + '1'\n",
    "    int(\"abc\")\n",
    "    f = open('test.txt')\n",
    "    print(f.read())\n",
    "    f.close()\n",
    "except (OSError, TypeError, ValueError) as error:\n",
    "    print('出错了！\\n原因是：' + str(error))"
   ]
  },
  {
   "cell_type": "markdown",
   "metadata": {},
   "source": [
    "### try - except - finally 语句\n",
    "try:\n",
    "    检测范围\n",
    "except Exception[as reason]:\n",
    "    出现异常后的处理代码\n",
    "finally:\n",
    "    无论如何都会被执行的代码\n",
    "    \n",
    "\n",
    "**不管try子句里面有没有发生异常，finally子句都会执行。**\n",
    "\n",
    "如果一个异常在try子句里被抛出，而又没有任何的except把它截住，那么这个异常会在finally子句执行后被抛出。"
   ]
  },
  {
   "cell_type": "markdown",
   "metadata": {},
   "source": [
    "### try - except - else 语句\n",
    "try:\n",
    "    检测范围\n",
    "except:\n",
    "    出现异常后的处理代码\n",
    "else:\n",
    "    如果没有异常执行这块代码\n",
    "\n",
    "如果在try子句执行时没有发生异常，Python将执行else语句后的语句。\n",
    "使用except而不带任何异常类型，这不是一个很好的方式，我们不能通过该程序识别出具体的异常信息，因为它捕获所有的异常。"
   ]
  },
  {
   "cell_type": "code",
   "execution_count": 10,
   "metadata": {},
   "outputs": [
    {
     "name": "stdout",
     "output_type": "stream",
     "text": [
      "内容写入文件成功\n"
     ]
    }
   ],
   "source": [
    "try:\n",
    "    fh = open(\"test.txt\", \"w\")\n",
    "    fh.write(\"这是一个测试文件，用于测试异常!!\")\n",
    "except IOError:\n",
    "    print(\"Error: 没有找到文件或读取文件失败\")\n",
    "else:\n",
    "    print(\"内容写入文件成功\")\n",
    "    fh.close()\n"
   ]
  },
  {
   "cell_type": "markdown",
   "metadata": {},
   "source": [
    "### raise语句\n",
    "Python 使用raise语句抛出一个指定的异常。"
   ]
  },
  {
   "cell_type": "code",
   "execution_count": 11,
   "metadata": {},
   "outputs": [
    {
     "name": "stdout",
     "output_type": "stream",
     "text": [
      "An exception flew by!\n"
     ]
    }
   ],
   "source": [
    "try:\n",
    "    raise NameError('HiThere')\n",
    "except NameError:\n",
    "    print('An exception flew by!')"
   ]
  },
  {
   "cell_type": "code",
   "execution_count": 13,
   "metadata": {},
   "outputs": [
    {
     "ename": "Exception",
     "evalue": "x 不能大于 5。x 的值为: 10",
     "output_type": "error",
     "traceback": [
      "\u001b[1;31m---------------------------------------------------------------------------\u001b[0m",
      "\u001b[1;31mException\u001b[0m                                 Traceback (most recent call last)",
      "\u001b[1;32m<ipython-input-13-e00bf68fb93c>\u001b[0m in \u001b[0;36m<module>\u001b[1;34m\u001b[0m\n\u001b[0;32m      1\u001b[0m \u001b[0mx\u001b[0m \u001b[1;33m=\u001b[0m \u001b[1;36m10\u001b[0m\u001b[1;33m\u001b[0m\u001b[1;33m\u001b[0m\u001b[0m\n\u001b[0;32m      2\u001b[0m \u001b[1;32mif\u001b[0m \u001b[0mx\u001b[0m \u001b[1;33m>\u001b[0m \u001b[1;36m5\u001b[0m\u001b[1;33m:\u001b[0m\u001b[1;33m\u001b[0m\u001b[1;33m\u001b[0m\u001b[0m\n\u001b[1;32m----> 3\u001b[1;33m     \u001b[1;32mraise\u001b[0m \u001b[0mException\u001b[0m\u001b[1;33m(\u001b[0m\u001b[1;34m'x 不能大于 5。x 的值为: {}'\u001b[0m\u001b[1;33m.\u001b[0m\u001b[0mformat\u001b[0m\u001b[1;33m(\u001b[0m\u001b[0mx\u001b[0m\u001b[1;33m)\u001b[0m\u001b[1;33m)\u001b[0m\u001b[1;33m\u001b[0m\u001b[1;33m\u001b[0m\u001b[0m\n\u001b[0m",
      "\u001b[1;31mException\u001b[0m: x 不能大于 5。x 的值为: 10"
     ]
    }
   ],
   "source": [
    "x = 10\n",
    "if x > 5:\n",
    "    raise Exception('x 不能大于 5。x 的值为: {}'.format(x))"
   ]
  },
  {
   "cell_type": "code",
   "execution_count": null,
   "metadata": {},
   "outputs": [],
   "source": [
    "#练习题 \n",
    "try:\n",
    "    a = random.int(1,100)\n",
    "    b = input('猜一猜1-100之间的一个数字')\n",
    "    b = int (b)?\n",
    "          ·1230---*//*-++、xcept b < a:"
   ]
  }
 ],
 "metadata": {
  "kernelspec": {
   "display_name": "Python 3",
   "language": "python",
   "name": "python3"
  },
  "language_info": {
   "codemirror_mode": {
    "name": "ipython",
    "version": 3
   },
   "file_extension": ".py",
   "mimetype": "text/x-python",
   "name": "python",
   "nbconvert_exporter": "python",
   "pygments_lexer": "ipython3",
   "version": "3.7.7"
  }
 },
 "nbformat": 4,
 "nbformat_minor": 4
}
