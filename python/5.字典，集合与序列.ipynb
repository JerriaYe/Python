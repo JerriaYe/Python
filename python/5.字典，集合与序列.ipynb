{
 "cells": [
  {
   "cell_type": "markdown",
   "metadata": {},
   "source": [
    "### 字典\n",
    "\n",
    "#### 可变类型与不可变类型\n",
    "\n",
    "字典以\"关键字\"key为索引，关键字可以是任意不可变类型，通常用字符串或数值。\n",
    "\n",
    "字典是 Python 唯一的一个 映射类型，字符串、元组、列表属于序列类型。\n",
    "\n",
    "\n",
    "那么如何快速判断一个数据类型 X 是不是可变类型的呢？两种方法：\n",
    "\n",
    "- 麻烦方法：用 id(X) 函数，对 X 进行某种操作，比较操作前后的 id，如果不一样，则 X 不可变，如果一样，则 X 可变。\n",
    "- 便捷方法：用 hash(X)，只要不报错，证明 X 可被哈希，即不可变，反过来不可被哈希，即可变。"
   ]
  },
  {
   "cell_type": "code",
   "execution_count": 1,
   "metadata": {},
   "outputs": [],
   "source": [
    "i = 1"
   ]
  },
  {
   "cell_type": "code",
   "execution_count": 2,
   "metadata": {},
   "outputs": [
    {
     "name": "stdout",
     "output_type": "stream",
     "text": [
      "140712063771024\n"
     ]
    }
   ],
   "source": [
    "print(id(i))"
   ]
  },
  {
   "cell_type": "code",
   "execution_count": 3,
   "metadata": {},
   "outputs": [],
   "source": [
    "i = i + 2"
   ]
  },
  {
   "cell_type": "code",
   "execution_count": 4,
   "metadata": {},
   "outputs": [
    {
     "name": "stdout",
     "output_type": "stream",
     "text": [
      "140712063771088\n"
     ]
    }
   ],
   "source": [
    "print(id(i))"
   ]
  },
  {
   "cell_type": "markdown",
   "metadata": {},
   "source": [
    "整数 i 在加 1 之后的 id 和之前不一样，因此加完之后的这个 i (虽然名字没变)，但不是加之前的那个 i 了，因此整数是不可变类型"
   ]
  },
  {
   "cell_type": "code",
   "execution_count": 5,
   "metadata": {},
   "outputs": [
    {
     "name": "stdout",
     "output_type": "stream",
     "text": [
      "140712063771024\n",
      "140712063771024\n"
     ]
    }
   ],
   "source": [
    "l = [1, 2]\n",
    "print(id(1))\n",
    "\n",
    "l.append('python')\n",
    "print(id(1))"
   ]
  },
  {
   "cell_type": "code",
   "execution_count": 6,
   "metadata": {},
   "outputs": [
    {
     "name": "stdout",
     "output_type": "stream",
     "text": [
      "2104374379912\n",
      "2104374379912\n"
     ]
    }
   ],
   "source": [
    "l = [1, 2]\n",
    "print(id(l))  \n",
    "l.append('Python')\n",
    "print(id(l))"
   ]
  },
  {
   "cell_type": "markdown",
   "metadata": {},
   "source": [
    "列表 l 在附加 'Python' 之后的 id 和之前一样，因此列表是可变类型"
   ]
  },
  {
   "cell_type": "code",
   "execution_count": 7,
   "metadata": {},
   "outputs": [
    {
     "name": "stdout",
     "output_type": "stream",
     "text": [
      "-5773944642581181731\n",
      "7584242293974431945\n"
     ]
    },
    {
     "ename": "TypeError",
     "evalue": "unhashable type: 'list'",
     "output_type": "error",
     "traceback": [
      "\u001b[1;31m---------------------------------------------------------------------------\u001b[0m",
      "\u001b[1;31mTypeError\u001b[0m                                 Traceback (most recent call last)",
      "\u001b[1;32m<ipython-input-7-71e93dd11e49>\u001b[0m in \u001b[0;36m<module>\u001b[1;34m\u001b[0m\n\u001b[0;32m      2\u001b[0m \u001b[0mprint\u001b[0m\u001b[1;33m(\u001b[0m\u001b[0mhash\u001b[0m\u001b[1;33m(\u001b[0m\u001b[1;33m(\u001b[0m\u001b[1;36m1\u001b[0m\u001b[1;33m,\u001b[0m \u001b[1;36m2\u001b[0m\u001b[1;33m,\u001b[0m \u001b[1;34m'Python'\u001b[0m\u001b[1;33m)\u001b[0m\u001b[1;33m)\u001b[0m\u001b[1;33m)\u001b[0m\u001b[1;33m\u001b[0m\u001b[1;33m\u001b[0m\u001b[0m\n\u001b[0;32m      3\u001b[0m \u001b[1;33m\u001b[0m\u001b[0m\n\u001b[1;32m----> 4\u001b[1;33m \u001b[0mprint\u001b[0m\u001b[1;33m(\u001b[0m\u001b[0mhash\u001b[0m\u001b[1;33m(\u001b[0m\u001b[1;33m[\u001b[0m\u001b[1;36m1\u001b[0m\u001b[1;33m,\u001b[0m \u001b[1;36m2\u001b[0m\u001b[1;33m,\u001b[0m \u001b[1;34m'Python'\u001b[0m\u001b[1;33m]\u001b[0m\u001b[1;33m)\u001b[0m\u001b[1;33m)\u001b[0m\u001b[1;33m\u001b[0m\u001b[1;33m\u001b[0m\u001b[0m\n\u001b[0m\u001b[0;32m      5\u001b[0m \u001b[0mprint\u001b[0m\u001b[1;33m(\u001b[0m\u001b[0mhash\u001b[0m\u001b[1;33m(\u001b[0m\u001b[1;33m{\u001b[0m\u001b[1;36m1\u001b[0m\u001b[1;33m,\u001b[0m \u001b[1;36m2\u001b[0m\u001b[1;33m,\u001b[0m \u001b[1;36m3\u001b[0m\u001b[1;33m}\u001b[0m\u001b[1;33m)\u001b[0m\u001b[1;33m)\u001b[0m\u001b[1;33m\u001b[0m\u001b[1;33m\u001b[0m\u001b[0m\n",
      "\u001b[1;31mTypeError\u001b[0m: unhashable type: 'list'"
     ]
    }
   ],
   "source": [
    "print(hash('Name'))\n",
    "print(hash((1, 2, 'Python'))) \n",
    "\n",
    "print(hash([1, 2, 'Python']))\n",
    "print(hash({1, 2, 3}))"
   ]
  },
  {
   "cell_type": "markdown",
   "metadata": {},
   "source": [
    "数值、字符和元组 都能被哈希，因此它们是不可变类型。\n",
    "列表、集合、字典不能被哈希，因此它是可变类型"
   ]
  },
  {
   "cell_type": "markdown",
   "metadata": {},
   "source": [
    "#### 字典的定义\n",
    "字典 是无序的 键:值（key:value）对集合，键必须是互不相同的（在同一个字典之内）。\n",
    "\n",
    "dict 内部存放的顺序和 key 放入的顺序是没有关系的。\n",
    "dict 查找和插入的速度极快，不会随着 key 的增加而增加，但是需要占用大量的内存。\n",
    "字典 定义语法为 {元素1, 元素2, ..., 元素n}\n",
    "\n",
    "其中每一个元素是一个「键值对」-- 键:值 (key:value)\n",
    "关键点是「大括号 {}」,「逗号 ,」和「冒号 :」\n",
    "大括号 -- 把所有元素绑在一起\n",
    "逗号 -- 将每个键值对分开\n",
    "冒号 -- 将键和值分开\n",
    "\n",
    "通过字符串或数值作为key来创建字典。\n",
    "\n",
    "注意：如果我们取的键在字典中不存在，会直接报错KeyError。\n",
    "\n",
    "- dict() 创建一个空的字典。"
   ]
  },
  {
   "cell_type": "code",
   "execution_count": null,
   "metadata": {},
   "outputs": [],
   "source": [
    "brand = ['李宁', '耐克', '阿迪达斯']\n",
    "slogan = ['一切皆有可能', 'Just do it', 'Impossible is nothing']\n",
    "print('耐克的口号是:', slogan[brand.index('耐克')])  "
   ]
  },
  {
   "cell_type": "markdown",
   "metadata": {},
   "source": [
    "- dict.fromkeys(seq[, value]) 用于创建一个新字典，以序列 seq 中元素做字典的键，value 为字典所有键对应的初始值。"
   ]
  },
  {
   "cell_type": "code",
   "execution_count": null,
   "metadata": {},
   "outputs": [],
   "source": [
    "seq = ('name', 'age', 'sex')\n",
    "dic1 = dict.fromkeys(seq)\n",
    "print(dic1)\n",
    "\n",
    "\n",
    "dic2 = dict.fromkeys(seq, 10)\n",
    "print(dic2)\n",
    "\n",
    "\n",
    "dic3 = dict.fromkeys(seq, ('小马', '8', '男'))\n",
    "print(dic3)"
   ]
  },
  {
   "cell_type": "markdown",
   "metadata": {},
   "source": [
    "- dict.- keys()返回一个可迭代对象，可以使用 list() 来转换为列表，列表为字典中的所有键。\n",
    "- dict.values()返回一个迭代器，可以使用 list() 来转换为列表，列表为字典中的所有值。\n",
    "- dict.items()以列表返回可遍历的 (键, 值) 元组数组。\n",
    "- dict.get(key, default=None) 返回指定键的值，如果值不在字典中返回默认值.\n",
    "- dict.setdefault(key, default=None)和get()方法 类似, 如果键不存在于字典中，将会添加键并将值设为默认值。\n",
    "- key in dict in 操作符用于判断键是否存在于字典中，如果键在字典 dict 里返回true，否则返回false。而not in操作符刚好相反，如果键在字典 dict 里返回false，否则返回true\n",
    "- dict.pop(key[,default])删除字典给定键 key 所对应的值，返回值为被删除的值。key 值必须给出。若key不存在，则返回 default 值。\n",
    "- del dict[key] 删除字典给定键 key 所对应的值。\n",
    "- dict.popitem()随机返回并删除字典中的一对键和值，如果字典已经为空，却调用了此方法，就报出KeyError异常。\n",
    "- dict.clear()用于删除字典内所有元素。\n",
    "- dict.copy()返回一个字典的浅复制。\n",
    "- dict.update(dict2)把字典参数 dict2 的 key:value对 更新到字典 dict 里"
   ]
  },
  {
   "cell_type": "code",
   "execution_count": null,
   "metadata": {},
   "outputs": [],
   "source": [
    "dic = {'Name': 'lsgogroup', 'Age': 7}\n",
    "dic.keys()"
   ]
  },
  {
   "cell_type": "code",
   "execution_count": null,
   "metadata": {},
   "outputs": [],
   "source": [
    "if 'Name' in dic:\n",
    "    print('Name is dic\\'s keys')"
   ]
  },
  {
   "cell_type": "code",
   "execution_count": null,
   "metadata": {},
   "outputs": [],
   "source": [
    "dic.pop('Name')"
   ]
  },
  {
   "cell_type": "code",
   "execution_count": null,
   "metadata": {},
   "outputs": [],
   "source": [
    "dic"
   ]
  },
  {
   "cell_type": "code",
   "execution_count": null,
   "metadata": {},
   "outputs": [],
   "source": [
    "del dic['Age']"
   ]
  },
  {
   "cell_type": "code",
   "execution_count": null,
   "metadata": {},
   "outputs": [],
   "source": [
    "dic"
   ]
  },
  {
   "cell_type": "markdown",
   "metadata": {},
   "source": [
    "直接赋值和 copy 的区别"
   ]
  },
  {
   "cell_type": "code",
   "execution_count": null,
   "metadata": {},
   "outputs": [],
   "source": [
    "dic1 = {'user': 'lsgogroup', 'num': [1, 2, 3]}\n",
    "\n",
    "# 引用对象\n",
    "dic2 = dic1  \n",
    "# 浅拷贝父对象（一级目录），子对象（二级目录）不拷贝，还是引用\n",
    "dic3 = dic1.copy()  \n",
    "\n",
    "print(id(dic1))  # 148635574728\n",
    "print(id(dic2))  # 148635574728\n",
    "print(id(dic3))  # 148635574344\n",
    "\n",
    "# 修改 data 数据\n",
    "dic1['user'] = 'root'\n",
    "dic1['num'].remove(1)\n",
    "\n",
    "# 输出结果\n",
    "print(dic1)  # {'user': 'root', 'num': [2, 3]}\n",
    "print(dic2)  # {'user': 'root', 'num': [2, 3]}\n",
    "print(dic3)  # {'user': 'runoob', 'num': [2, 3]}"
   ]
  },
  {
   "cell_type": "markdown",
   "metadata": {},
   "source": [
    "#### 字典练习题\n",
    "1："
   ]
  },
  {
   "cell_type": "code",
   "execution_count": null,
   "metadata": {},
   "outputs": [],
   "source": [
    "dic = {\n",
    "    'python': 95,\n",
    "    'java': 99,\n",
    "    'c': 100\n",
    "    }\n"
   ]
  },
  {
   "cell_type": "code",
   "execution_count": null,
   "metadata": {},
   "outputs": [],
   "source": [
    "# 字典长度\n",
    "print(len(dic))"
   ]
  },
  {
   "cell_type": "code",
   "execution_count": null,
   "metadata": {},
   "outputs": [],
   "source": [
    "dic['java'] = 98\n",
    "dic"
   ]
  },
  {
   "cell_type": "code",
   "execution_count": null,
   "metadata": {},
   "outputs": [],
   "source": [
    "del dic['c']\n",
    "dic"
   ]
  },
  {
   "cell_type": "code",
   "execution_count": null,
   "metadata": {},
   "outputs": [],
   "source": [
    "dic['php'] = 90\n",
    "dic"
   ]
  },
  {
   "cell_type": "code",
   "execution_count": null,
   "metadata": {},
   "outputs": [],
   "source": [
    "a = list(dic.keys())"
   ]
  },
  {
   "cell_type": "code",
   "execution_count": null,
   "metadata": {},
   "outputs": [],
   "source": [
    "a"
   ]
  },
  {
   "cell_type": "code",
   "execution_count": null,
   "metadata": {},
   "outputs": [],
   "source": [
    "b = list(dic.values())\n",
    "b"
   ]
  },
  {
   "cell_type": "code",
   "execution_count": null,
   "metadata": {},
   "outputs": [],
   "source": [
    "if 'javascript' in dic:\n",
    "    print('javascript in idc')\n",
    "else:\n",
    "    print('javascript not in idc')"
   ]
  },
  {
   "cell_type": "code",
   "execution_count": null,
   "metadata": {},
   "outputs": [],
   "source": [
    "sum = sum(list(dic.values()))"
   ]
  },
  {
   "cell_type": "code",
   "execution_count": null,
   "metadata": {},
   "outputs": [],
   "source": [
    "sum"
   ]
  },
  {
   "cell_type": "code",
   "execution_count": null,
   "metadata": {},
   "outputs": [],
   "source": [
    "maxv= max(list(dic.values()))\n",
    "maxv"
   ]
  },
  {
   "cell_type": "code",
   "execution_count": null,
   "metadata": {},
   "outputs": [],
   "source": [
    "minv= min(list(dic.values()))\n",
    "minv"
   ]
  },
  {
   "cell_type": "code",
   "execution_count": null,
   "metadata": {},
   "outputs": [],
   "source": [
    "dic1 = {'php':97}\n",
    "dic.update(dic1)"
   ]
  },
  {
   "cell_type": "code",
   "execution_count": null,
   "metadata": {},
   "outputs": [],
   "source": [
    "dic"
   ]
  },
  {
   "cell_type": "markdown",
   "metadata": {},
   "source": [
    "2：有一个字典，保存的是学生各个编程语言的成绩，内容如下;\n",
    "\n",
    "各门课程的考试成绩存储方式并不相同，有的用字典，有的用列表，但是分数都是字符串类型，请实现函数transfer_score(score_dict)，将分数修改成int类型"
   ]
  },
  {
   "cell_type": "code",
   "execution_count": null,
   "metadata": {},
   "outputs": [],
   "source": [
    "data = {\n",
    "        'python': {'上学期': '90', '下学期': '95'},\n",
    "        'c++': ['95', '96', '97'],\n",
    "        'java': [{'月考':'90', '期中考试': '94', '期末考试': '98'}]\n",
    "        }\n",
    "def transfer_score(data):\n",
    "    for value in list(data.values()):\n",
    "        if type(value) == dict:\n",
    "            print('exist value in dict')\n",
    "            for value in list(value.values()):\n",
    "                value = int(value)\n",
    "    return data"
   ]
  },
  {
   "cell_type": "code",
   "execution_count": null,
   "metadata": {},
   "outputs": [],
   "source": [
    "a = transfer_score(data)"
   ]
  },
  {
   "cell_type": "code",
   "execution_count": null,
   "metadata": {},
   "outputs": [],
   "source": [
    "a"
   ]
  },
  {
   "cell_type": "markdown",
   "metadata": {},
   "source": [
    "###  集合\n",
    "Python 中set与dict类似，也是一组key的集合，但不存储value。由于key不能重复，所以，在set中，没有重复的key。key为不可变类型，即可哈希的值.\n",
    "\n",
    "- 集合的两个特点：无序 (unordered) 和唯一 (unique)。\n",
    "\n",
    "由于 set 存储的是无序集合，所以我们不可以为集合创建索引或执行切片(slice)操作，也没有键(keys)可用来获取集合中元素的值，但是可以判断一个元素是否在集合中。"
   ]
  },
  {
   "cell_type": "code",
   "execution_count": null,
   "metadata": {},
   "outputs": [],
   "source": [
    "name = {1, 2, 3, 4}\n",
    "type(name)"
   ]
  },
  {
   "cell_type": "code",
   "execution_count": null,
   "metadata": {},
   "outputs": [],
   "source": [
    "s = set()\n",
    "s.add('apple')\n",
    "s.add('pear')\n",
    "s.add('peach')\n",
    "s"
   ]
  },
  {
   "cell_type": "markdown",
   "metadata": {},
   "source": [
    "直接把一堆元素用花括号括起来{元素1, 元素2, ..., 元素n}。\n",
    "重复元素在set中会被自动被过滤"
   ]
  },
  {
   "cell_type": "code",
   "execution_count": null,
   "metadata": {},
   "outputs": [],
   "source": [
    "basket = {'apple', 'orange', 'apple', 'pear', 'orange', 'banana'}\n",
    "print(basket)"
   ]
  },
  {
   "cell_type": "code",
   "execution_count": null,
   "metadata": {},
   "outputs": [],
   "source": [
    "b = set((\"Google\", \"Lsgogroup\", \"Taobao\", \"Taobao\"))\n",
    "print(b) "
   ]
  },
  {
   "cell_type": "markdown",
   "metadata": {},
   "source": [
    "#### 集合内置函数\n",
    "- set.add(elmnt)用于给集合添加元素，如果添加的元素在集合中已存在，则不执行任何操作。\n",
    "- set.update(set1)用于修改当前集合，可以添加新的元素或集合到当前集合set中，如果添加的元素在集合中已存在，则该元素只会出现一次，重复的会忽略。\n",
    "- set.remove(item) 用于移除集合中的指定元素。如果元素不存在，则会发生错误。\n",
    "- set.discard(value) 用于移除指定的集合元素。**remove() 方法在移除一个不存在的元素时会发生错误，而 discard() 方法不会。**\n",
    "- set.pop() 用于随机移除一个元素。"
   ]
  },
  {
   "cell_type": "markdown",
   "metadata": {},
   "source": [
    "由于 set 是无序和无重复元素的集合，所以两个或多个 set 可以做数学意义上的集合操作。\n",
    "\n",
    "**交集**\n",
    "- set.intersection(set1, set2) 返回两个集合的交集。\n",
    "- set1 & set2 返回两个集合的交集。\n",
    "- set.intersection_update(set1, set2) 交集，在原始的集合上移除不重叠的元素。"
   ]
  },
  {
   "cell_type": "code",
   "execution_count": null,
   "metadata": {},
   "outputs": [],
   "source": [
    "a = set('abracadabra')\n",
    "b = set('alacazam')\n",
    "print(a)  \n",
    "print(b)  \n",
    "\n",
    "c = a.intersection(b)\n",
    "print(c) \n",
    "print(a & b)  \n",
    "print(a)  \n",
    "\n",
    "a.intersection_update(b)\n",
    "print(a)  "
   ]
  },
  {
   "cell_type": "markdown",
   "metadata": {},
   "source": [
    "**并集**\n",
    "- set.union(set1, set2) 返回两个集合的并集。\n",
    "- set1 | set2 返回两个集合的并集。"
   ]
  },
  {
   "cell_type": "markdown",
   "metadata": {},
   "source": [
    "**差集**\n",
    "- set.difference(set) 返回集合的差集。\n",
    "- set1 - set2 返回集合的差集。\n",
    "- set.difference_update(set) 集合的差集，直接在原来的集合中移除元素，没有返回值。"
   ]
  },
  {
   "cell_type": "markdown",
   "metadata": {},
   "source": [
    "**异或**\n",
    "- set.symmetric_difference(set)返回集合的异或。\n",
    "- set1 ^ set2 返回集合的异或。\n",
    "- set.symmetric_difference_update(set)移除当前集合中在另外一个指定集合相同的元素，并将另外一个指定集合中不同的元素插入到当前集合中。"
   ]
  },
  {
   "cell_type": "markdown",
   "metadata": {},
   "source": [
    "**是否被包含**\n",
    "- set1.issubset(set2)判断集合是不是被其他集合包含，如果是则返回 True，否则返回 False。\n",
    "- set1 <= set2 判断集合是不是被其他集合包含，如果是则返回 True，否则返回 False。\n",
    "\n",
    "**是否包含其他集合**\n",
    "- set1.issuperset(set2)用于判断集合是不是包含其他集合，如果是则返回 True，否则返回 False。\n",
    "- set1 >= set2 判断集合是不是包含其他集合，如果是则返回 True，否则返回 False。"
   ]
  },
  {
   "cell_type": "markdown",
   "metadata": {},
   "source": [
    "**是否不相交**\n",
    "- set.isdisjoint(set) 用于判断两个集合是不是不相交，如果是返回 True，否则返回 False。"
   ]
  },
  {
   "cell_type": "markdown",
   "metadata": {},
   "source": [
    "#### 不可变集合\n",
    "- frozenset([iterable]) 返回一个冻结的集合，冻结后集合不能再添加或删除任何元素。"
   ]
  },
  {
   "cell_type": "markdown",
   "metadata": {},
   "source": [
    "#### 练习题"
   ]
  },
  {
   "cell_type": "code",
   "execution_count": null,
   "metadata": {},
   "outputs": [],
   "source": [
    "# 怎么表示只包含⼀个数字1的元组\n",
    "a = (1,)\n",
    "type(a)"
   ]
  },
  {
   "cell_type": "code",
   "execution_count": null,
   "metadata": {},
   "outputs": [],
   "source": [
    "# 创建一个空集合，增加 {‘x’,‘y’,‘z’} 三个元素。\n",
    "b = set()\n",
    "b.add('x')\n",
    "b.add('y')\n",
    "b.add('z')\n",
    "b"
   ]
  },
  {
   "cell_type": "markdown",
   "metadata": {},
   "source": [
    "### 序列\n",
    "\n",
    "序列类型包括字符串、列表、元组、集合和字典，这些序列支持一些通用的操作，但比较特殊的是，集合和字典不支持索引、切片、相加和相乘操作。"
   ]
  },
  {
   "cell_type": "code",
   "execution_count": 8,
   "metadata": {},
   "outputs": [],
   "source": [
    "b = 'I Love LsgoGroup'\n",
    "b = tuple(b)"
   ]
  },
  {
   "cell_type": "code",
   "execution_count": 9,
   "metadata": {},
   "outputs": [
    {
     "data": {
      "text/plain": [
       "('I',\n",
       " ' ',\n",
       " 'L',\n",
       " 'o',\n",
       " 'v',\n",
       " 'e',\n",
       " ' ',\n",
       " 'L',\n",
       " 's',\n",
       " 'g',\n",
       " 'o',\n",
       " 'G',\n",
       " 'r',\n",
       " 'o',\n",
       " 'u',\n",
       " 'p')"
      ]
     },
     "execution_count": 9,
     "metadata": {},
     "output_type": "execute_result"
    }
   ],
   "source": [
    "b"
   ]
  },
  {
   "cell_type": "markdown",
   "metadata": {},
   "source": [
    "- sorted(iterable, key=None, reverse=False) 对所有可迭代的对象进行排序操作。\n",
    "   - iterable -- 可迭代对象。\n",
    "   - key -- 主要是用来进行比较的元素，只有一个参数，具体的函数的参数就是取自于可迭代对象中，指定可迭代对象中的一个元素来进行排序。\n",
    "   - reverse -- 排序规则，reverse = True 降序 ， reverse = False 升序（默认）。\n",
    "   - 返回重新排序的列表。"
   ]
  },
  {
   "cell_type": "code",
   "execution_count": 10,
   "metadata": {},
   "outputs": [
    {
     "name": "stdout",
     "output_type": "stream",
     "text": [
      "[99, 83, 7, 3, -8]\n"
     ]
    }
   ],
   "source": [
    "x = [-8, 99, 3, 7, 83]\n",
    "print(sorted(x, reverse=True))  "
   ]
  },
  {
   "cell_type": "code",
   "execution_count": 11,
   "metadata": {},
   "outputs": [
    {
     "name": "stdout",
     "output_type": "stream",
     "text": [
      "[{'age': 10, 'name': 'c'}, {'age': 20, 'name': 'a'}, {'age': 25, 'name': 'b'}]\n"
     ]
    }
   ],
   "source": [
    "t = ({\"age\": 20, \"name\": \"a\"}, {\"age\": 25, \"name\": \"b\"}, {\"age\": 10, \"name\": \"c\"})\n",
    "x = sorted(t, key=lambda a: a[\"age\"])\n",
    "print(x)"
   ]
  },
  {
   "cell_type": "markdown",
   "metadata": {},
   "source": [
    "- reversed(seq) 函数返回一个反转的迭代器。\n",
    "  - seq -- 要转换的序列，可以是 tuple, string, list 或 range\n",
    " \n",
    " **可以用list将reversed后的对象转换为list然后输出，否则输出的就是地址**"
   ]
  },
  {
   "cell_type": "code",
   "execution_count": 12,
   "metadata": {},
   "outputs": [
    {
     "name": "stdout",
     "output_type": "stream",
     "text": [
      "<reversed object at 0x000001E9F695B788>\n"
     ]
    }
   ],
   "source": [
    "s = 'lsgogroup' \n",
    "x = reversed(s) \n",
    "print(x)"
   ]
  },
  {
   "cell_type": "code",
   "execution_count": 13,
   "metadata": {},
   "outputs": [
    {
     "name": "stdout",
     "output_type": "stream",
     "text": [
      "['p', 'u', 'o', 'r', 'g', 'o', 'g', 's', 'l']\n"
     ]
    }
   ],
   "source": [
    "print(list(x))"
   ]
  },
  {
   "cell_type": "markdown",
   "metadata": {},
   "source": [
    "- enumerate(sequence, [start=0])\n",
    "用于将一个可遍历的数据对象(如列表、元组或字符串)组合为一个索引序列，同时列出数据和数据下标，一般用在 for 循环当中"
   ]
  },
  {
   "cell_type": "code",
   "execution_count": 14,
   "metadata": {},
   "outputs": [
    {
     "name": "stdout",
     "output_type": "stream",
     "text": [
      "[(0, 'Spring'), (1, 'Summer'), (2, 'Fall'), (3, 'Winter')]\n"
     ]
    }
   ],
   "source": [
    "seasons = ['Spring', 'Summer', 'Fall', 'Winter']\n",
    "a = list(enumerate(seasons))\n",
    "print(a)   "
   ]
  },
  {
   "cell_type": "code",
   "execution_count": 15,
   "metadata": {},
   "outputs": [
    {
     "name": "stdout",
     "output_type": "stream",
     "text": [
      "[(1, 'Spring'), (2, 'Summer'), (3, 'Fall'), (4, 'Winter')]\n"
     ]
    }
   ],
   "source": [
    "b = list(enumerate(seasons, 1))\n",
    "print(b) "
   ]
  },
  {
   "cell_type": "code",
   "execution_count": 16,
   "metadata": {},
   "outputs": [
    {
     "name": "stdout",
     "output_type": "stream",
     "text": [
      "0,Spring\n",
      "1,Summer\n",
      "2,Fall\n",
      "3,Winter\n"
     ]
    }
   ],
   "source": [
    "for i, element in a:\n",
    "    print('{0},{1}'.format(i, element))"
   ]
  },
  {
   "cell_type": "code",
   "execution_count": 17,
   "metadata": {},
   "outputs": [
    {
     "name": "stdout",
     "output_type": "stream",
     "text": [
      "0,Spring\n",
      "1,Summer\n",
      "2,Fall\n",
      "3,Winter\n"
     ]
    }
   ],
   "source": [
    "season = ['Spring', 'Summer', 'Fall', 'Winter']\n",
    "for i, element in list(enumerate(season)):\n",
    "    print('{0},{1}'.format(i, element))"
   ]
  },
  {
   "cell_type": "code",
   "execution_count": 18,
   "metadata": {},
   "outputs": [
    {
     "name": "stdout",
     "output_type": "stream",
     "text": [
      "0,Spring\n",
      "1,Summer\n",
      "2,Fall\n",
      "3,Winter\n"
     ]
    }
   ],
   "source": [
    "season = ['Spring', 'Summer', 'Fall', 'Winter']\n",
    "for i, element in enumerate(season):\n",
    "    print('{0},{1}'.format(i, element))"
   ]
  },
  {
   "cell_type": "markdown",
   "metadata": {},
   "source": [
    "- zip(iter1 [,iter2 [...]])\n",
    "用于将可迭代的对象作为参数，将对象中对应的元素打包成一个个元组，然后返回由这些元组组成的对象，这样做的好处是节约了不少的内存。\n",
    "我们可以使用 list() 转换来输出列表。\n",
    "如果各个迭代器的元素个数不一致，则返回列表长度与最短的对象相同，利用 * 号操作符，可以将元组解压为列表。\n",
    "\n",
    "**可以用list将zip后的对象转换为list然后输出，否则输出的就是地址**"
   ]
  },
  {
   "cell_type": "code",
   "execution_count": 19,
   "metadata": {},
   "outputs": [],
   "source": [
    "a = [1, 2, 3]\n",
    "b = [4, 5, 6]\n",
    "c = [4, 5, 6, 7, 8]\n",
    "\n",
    "zipped = zip(a, b)"
   ]
  },
  {
   "cell_type": "code",
   "execution_count": 20,
   "metadata": {},
   "outputs": [
    {
     "data": {
      "text/plain": [
       "<zip at 0x1e9f6976a48>"
      ]
     },
     "execution_count": 20,
     "metadata": {},
     "output_type": "execute_result"
    }
   ],
   "source": [
    "zipped"
   ]
  },
  {
   "cell_type": "code",
   "execution_count": 21,
   "metadata": {},
   "outputs": [
    {
     "name": "stdout",
     "output_type": "stream",
     "text": [
      "[(1, 4), (2, 5), (3, 6)]\n"
     ]
    }
   ],
   "source": [
    "print(list(zipped))"
   ]
  },
  {
   "cell_type": "code",
   "execution_count": 22,
   "metadata": {},
   "outputs": [],
   "source": [
    "a1, a2 = zip(*zip(a, b)) "
   ]
  },
  {
   "cell_type": "code",
   "execution_count": 23,
   "metadata": {},
   "outputs": [
    {
     "name": "stdout",
     "output_type": "stream",
     "text": [
      "[1, 2, 3]\n",
      "[4, 5, 6]\n"
     ]
    }
   ],
   "source": [
    "print(list(a1))  \n",
    "print(list(a2))"
   ]
  },
  {
   "cell_type": "markdown",
   "metadata": {},
   "source": [
    "#### 练习题"
   ]
  },
  {
   "cell_type": "code",
   "execution_count": 24,
   "metadata": {},
   "outputs": [
    {
     "data": {
      "text/plain": [
       "77"
      ]
     },
     "execution_count": 24,
     "metadata": {},
     "output_type": "execute_result"
    }
   ],
   "source": [
    "# 怎么找出序列中的最⼤、⼩值？\n",
    "a = [1, 2, 3, 77, -90, 67]\n",
    "amax= max(a)\n",
    "amax"
   ]
  },
  {
   "cell_type": "code",
   "execution_count": 25,
   "metadata": {},
   "outputs": [
    {
     "data": {
      "text/plain": [
       "-90"
      ]
     },
     "execution_count": 25,
     "metadata": {},
     "output_type": "execute_result"
    }
   ],
   "source": [
    "amin = min(a)\n",
    "amin"
   ]
  },
  {
   "cell_type": "code",
   "execution_count": 26,
   "metadata": {},
   "outputs": [
    {
     "name": "stdout",
     "output_type": "stream",
     "text": [
      "[-90, 1, 2, 3, 67, 77]\n"
     ]
    }
   ],
   "source": [
    "# sort() 和 sorted() 区别\n",
    "a.sort()\n",
    "print(a)"
   ]
  },
  {
   "cell_type": "code",
   "execution_count": 27,
   "metadata": {},
   "outputs": [
    {
     "name": "stdout",
     "output_type": "stream",
     "text": [
      "[-90, 1, 2, 3, 67, 77]\n"
     ]
    }
   ],
   "source": [
    "b = sorted(a)\n",
    "print(b)"
   ]
  },
  {
   "cell_type": "code",
   "execution_count": 28,
   "metadata": {},
   "outputs": [
    {
     "data": {
      "text/plain": [
       "5050"
      ]
     },
     "execution_count": 28,
     "metadata": {},
     "output_type": "execute_result"
    }
   ],
   "source": [
    "sum([ x for x in range(0,101)])"
   ]
  },
  {
   "cell_type": "code",
   "execution_count": 29,
   "metadata": {},
   "outputs": [
    {
     "data": {
      "text/plain": [
       "5050"
      ]
     },
     "execution_count": 29,
     "metadata": {},
     "output_type": "execute_result"
    }
   ],
   "source": [
    "# 怎么快速求 1 到 100 所有整数相加之和？\n",
    "ssss = sum(range(1, 101))\n",
    "ssss"
   ]
  },
  {
   "cell_type": "code",
   "execution_count": 30,
   "metadata": {},
   "outputs": [
    {
     "name": "stdout",
     "output_type": "stream",
     "text": [
      "<generator object <genexpr> at 0x000001E9F69849C8>\n"
     ]
    }
   ],
   "source": [
    "print(i for i in range(101))"
   ]
  },
  {
   "cell_type": "code",
   "execution_count": 33,
   "metadata": {},
   "outputs": [],
   "source": [
    "a = ['x', 'y', 'z']\n",
    "b = [1, 2, 3]"
   ]
  },
  {
   "cell_type": "code",
   "execution_count": 34,
   "metadata": {},
   "outputs": [],
   "source": [
    "c = zip(a, b)"
   ]
  },
  {
   "cell_type": "code",
   "execution_count": 36,
   "metadata": {},
   "outputs": [
    {
     "name": "stdout",
     "output_type": "stream",
     "text": [
      "[]\n"
     ]
    }
   ],
   "source": [
    "# 将[‘x’,‘y’,‘z’] 和 [1,2,3] 转成 [(‘x’,1),(‘y’,2),(‘z’,3)] 的形式。\n",
    "print(list(c))"
   ]
  },
  {
   "cell_type": "code",
   "execution_count": null,
   "metadata": {},
   "outputs": [],
   "source": []
  }
 ],
 "metadata": {
  "kernelspec": {
   "display_name": "Python 3",
   "language": "python",
   "name": "python3"
  },
  "language_info": {
   "codemirror_mode": {
    "name": "ipython",
    "version": 3
   },
   "file_extension": ".py",
   "mimetype": "text/x-python",
   "name": "python",
   "nbconvert_exporter": "python",
   "pygments_lexer": "ipython3",
   "version": "3.7.7"
  }
 },
 "nbformat": 4,
 "nbformat_minor": 4
}
